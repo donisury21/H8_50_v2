{
 "cells": [
  {
   "cell_type": "markdown",
   "metadata": {},
   "source": [
    "case: \n",
    "print nama panjang apabila umur bisa dibagi 2, \n",
    "kemudian apabila tidak bisa dibagi 2, maka check \n",
    "dl panjang nama, apabila nama panjang terdiri dari 3 nama, maka print nama panjang, kalau tidak terdiri dari 3 nama maka print nama pendek\n",
    "\n",
    "contoh:\n",
    "nama panjang = doni surya putra\n",
    "nama pendek = doni\n",
    "umur = 18 tahun\n",
    "maka yang di print adalah \"doni surya putra\"\n",
    "\n",
    "kalau umur = 17 tahun\n",
    "maka yang di print adalah \"doni surya putra\"\n",
    "\n",
    "apabila:\n",
    "nama panjang = ayu sulityo\n",
    "nama pendek = ayu\n",
    "umur = 17\n",
    "maka yang diprint adalah \"ayu\""
   ]
  },
  {
   "cell_type": "code",
   "execution_count": 5,
   "metadata": {},
   "outputs": [
    {
     "name": "stdout",
     "output_type": "stream",
     "text": [
      "please input your full namedoni surya\n",
      "please input your short namedoni\n",
      "please input your age10\n",
      "doni surya\n"
     ]
    }
   ],
   "source": [
    "nama_panjang = input('please input your full name')\n",
    "nama_pendek = input('please input your short name')\n",
    "umur = int(input('please input your age'))\n",
    "splitNama = nama_panjang.split( );\n",
    "\n",
    "\n",
    "if umur % 2 == 0:\n",
    "    print(nama_panjang)\n",
    "else :\n",
    "    if(len(splitNama) >= 3):\n",
    "         print(nama_panjang)\n",
    "    else:\n",
    "         print(nama_pendek)"
   ]
  },
  {
   "cell_type": "code",
   "execution_count": 6,
   "metadata": {},
   "outputs": [
    {
     "name": "stdout",
     "output_type": "stream",
     "text": [
      "please input your full namea a a\n",
      "please input your short namea\n",
      "please input your age10\n",
      "a a a\n"
     ]
    }
   ],
   "source": [
    "nama_panjang = input('please input your full name ')\n",
    "nama_pendek = input('please input your short name ')\n",
    "umur = int(input('please input your age '))\n",
    "splitNama = nama_panjang.split( );\n",
    "\n",
    "\n",
    "if umur % 2 == 0:\n",
    "    print(nama_panjang)\n",
    "elif(len(splitNama) >= 3):\n",
    "    print(nama_panjang)\n",
    "else:\n",
    "    print(nama_pendek)"
   ]
  },
  {
   "cell_type": "markdown",
   "metadata": {},
   "source": [
    "bikin jupyter notebook baru, yang isinya adalah code dari challenge nya,\n",
    "kemudian kasih nama file nya \"hactiv8 challange 20210624\""
   ]
  },
  {
   "cell_type": "markdown",
   "metadata": {},
   "source": [
    "case: \n",
    "print angka yang terus bertambah sebanyak 1, sampai total dari nama panjang kita\n",
    "\n",
    "contoh:\n",
    "nama panjang = \"doni surya putra\"\n",
    "maka hasil nya adalah:\n",
    "1\n",
    "2\n",
    "3\n",
    "4\n",
    "5\n",
    "6\n",
    "7\n",
    "8\n",
    "9\n",
    "10\n",
    "11\n",
    "12\n",
    "13\n",
    "14"
   ]
  },
  {
   "cell_type": "markdown",
   "metadata": {},
   "source": [
    "case: \n",
    "ada 2 list, apabila data di kedua list adalah sama maka print data di list pertama, apabila berbeda maka akan melakukan print nama kita sebanyak angka di dalam data yg di list pertama\n",
    "\n",
    "contoh:\n",
    "nama = 'doni'\n",
    "list_1 = [1,2,3,4]\n",
    "list_2 = [1,2,3,4]\n",
    "maka hasilnya adalah: [1,2,3,4]\n",
    "\n",
    "list_1 = [1,2,3,4]\n",
    "list_2 = [4,5,6,7]\n",
    "maka hasilnya adalah:\n",
    "doni\n",
    "doni\n",
    "doni\n",
    "doni"
   ]
  }
 ],
 "metadata": {
  "kernelspec": {
   "display_name": "Python 3",
   "language": "python",
   "name": "python3"
  },
  "language_info": {
   "codemirror_mode": {
    "name": "ipython",
    "version": 3
   },
   "file_extension": ".py",
   "mimetype": "text/x-python",
   "name": "python",
   "nbconvert_exporter": "python",
   "pygments_lexer": "ipython3",
   "version": "3.8.5"
  }
 },
 "nbformat": 4,
 "nbformat_minor": 4
}
