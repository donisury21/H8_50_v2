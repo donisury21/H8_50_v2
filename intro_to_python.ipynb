{
 "cells": [
  {
   "cell_type": "markdown",
   "metadata": {},
   "source": [
    "Part 1"
   ]
  },
  {
   "cell_type": "code",
   "execution_count": null,
   "metadata": {},
   "outputs": [],
   "source": [
    "print('hello world')"
   ]
  },
  {
   "cell_type": "code",
   "execution_count": null,
   "metadata": {},
   "outputs": [],
   "source": [
    "import numpy as np\n",
    "a = np.empty(6)"
   ]
  },
  {
   "cell_type": "code",
   "execution_count": null,
   "metadata": {},
   "outputs": [],
   "source": [
    "print(a)"
   ]
  },
  {
   "cell_type": "code",
   "execution_count": null,
   "metadata": {},
   "outputs": [],
   "source": [
    "a=10"
   ]
  },
  {
   "cell_type": "code",
   "execution_count": null,
   "metadata": {},
   "outputs": [],
   "source": [
    "a=20"
   ]
  },
  {
   "cell_type": "code",
   "execution_count": null,
   "metadata": {},
   "outputs": [],
   "source": [
    "if a == 10:\n",
    "    print('a adalah 10')\n",
    "else:\n",
    "    print('a bukan 10')"
   ]
  },
  {
   "cell_type": "code",
   "execution_count": null,
   "metadata": {},
   "outputs": [],
   "source": [
    "## logic: \n",
    "## print nama diri sendiri apabila umur bisa dibagi 2, \n",
    "\n",
    "## kemudian apabila tidak bisa dibagi 2, maka check \n",
    "## dl panjang nama, apabila panjang nama lebih dari 3, maka print nama panjang, kalau kurang dari 3 print nama pendek"
   ]
  },
  {
   "cell_type": "code",
   "execution_count": null,
   "metadata": {},
   "outputs": [],
   "source": [
    "umur = 27\n",
    "a = 'Fi'\n",
    "b = 'Fitri'\n",
    "\n",
    "if umur%2 == 0:\n",
    "    print(a)\n",
    "else:\n",
    "    if len (a)> 3:\n",
    "        print (a)\n",
    "    else:\n",
    "        print (b)"
   ]
  },
  {
   "cell_type": "code",
   "execution_count": null,
   "metadata": {},
   "outputs": [],
   "source": [
    "def fungsi_print_nama(umur,a,b):\n",
    "    if umur%2 == 0:\n",
    "        print(a)\n",
    "    else:\n",
    "        if len (a)> 3:\n",
    "            print (a)\n",
    "        else:\n",
    "            print (b)"
   ]
  },
  {
   "cell_type": "code",
   "execution_count": null,
   "metadata": {},
   "outputs": [],
   "source": [
    "umur = 10\n",
    "a = 'Fi'\n",
    "b = 'Fitri'\n",
    "fungsi_print_nama(umur,a,b)"
   ]
  },
  {
   "cell_type": "code",
   "execution_count": null,
   "metadata": {},
   "outputs": [],
   "source": [
    "umur1 = 21\n",
    "a1 = 'Doni Surya'\n",
    "b1 = 'Doni'\n",
    "fungsi_print_nama(umur1,a1,b1)"
   ]
  },
  {
   "cell_type": "code",
   "execution_count": null,
   "metadata": {},
   "outputs": [],
   "source": [
    "fungsi_print_nama(umur=umur1,b=a1,a=b1)"
   ]
  },
  {
   "cell_type": "code",
   "execution_count": null,
   "metadata": {},
   "outputs": [],
   "source": [
    "def print_str(data='c'):\n",
    "    print(data)"
   ]
  },
  {
   "cell_type": "code",
   "execution_count": null,
   "metadata": {},
   "outputs": [],
   "source": [
    "print_str('a')\n",
    "print_str('b')"
   ]
  },
  {
   "cell_type": "code",
   "execution_count": null,
   "metadata": {},
   "outputs": [],
   "source": [
    "print_str()"
   ]
  },
  {
   "cell_type": "code",
   "execution_count": null,
   "metadata": {},
   "outputs": [],
   "source": [
    "my_list = [10,20,30]\n",
    "my_list_2 = 'a'\n",
    "my_list.append(my_list_2)\n",
    "print(my_list)"
   ]
  },
  {
   "cell_type": "code",
   "execution_count": null,
   "metadata": {},
   "outputs": [],
   "source": [
    "10%2"
   ]
  },
  {
   "cell_type": "code",
   "execution_count": null,
   "metadata": {},
   "outputs": [],
   "source": [
    "x = ['doni']"
   ]
  },
  {
   "cell_type": "code",
   "execution_count": null,
   "metadata": {},
   "outputs": [],
   "source": [
    "len(x)"
   ]
  },
  {
   "cell_type": "code",
   "execution_count": null,
   "metadata": {},
   "outputs": [],
   "source": [
    "if x == 10:\n",
    "    pass\n",
    "else:\n",
    "    break"
   ]
  },
  {
   "cell_type": "code",
   "execution_count": null,
   "metadata": {
    "scrolled": false
   },
   "outputs": [],
   "source": [
    "a = 0\n",
    "while a < 10:\n",
    "    print(a)\n",
    "    #pass"
   ]
  },
  {
   "cell_type": "code",
   "execution_count": null,
   "metadata": {},
   "outputs": [],
   "source": [
    "### logic: print angka yang terus bertambah sebanyak 1, sampai total dari nama panjang kita"
   ]
  },
  {
   "cell_type": "code",
   "execution_count": null,
   "metadata": {},
   "outputs": [],
   "source": [
    "a=\"doni\"\n",
    "b=len(a)\n",
    "c=0\n",
    "while c<b:\n",
    "    c=c+1\n",
    "    print(c)"
   ]
  },
  {
   "cell_type": "code",
   "execution_count": null,
   "metadata": {},
   "outputs": [],
   "source": [
    "for i in range(5):\n",
    "    print(i)"
   ]
  },
  {
   "cell_type": "code",
   "execution_count": null,
   "metadata": {},
   "outputs": [],
   "source": [
    "list_ukuran_baju = [10,12,20,15]\n",
    "for i in list_ukuran_baju:\n",
    "    print(i)"
   ]
  },
  {
   "cell_type": "code",
   "execution_count": null,
   "metadata": {},
   "outputs": [],
   "source": [
    "for i in range(len(list_ukuran_baju)):\n",
    "    print(list_ukuran_baju[i])"
   ]
  },
  {
   "cell_type": "code",
   "execution_count": null,
   "metadata": {},
   "outputs": [],
   "source": [
    "data_ke_2 = list_ukuran_baju[1]\n",
    "data_ke_3 = list_ukuran_baju[2]\n",
    "print(data_ke_2)\n",
    "print(data_ke_3)"
   ]
  },
  {
   "cell_type": "code",
   "execution_count": null,
   "metadata": {},
   "outputs": [],
   "source": [
    "for i in range(len(list_ukuran_baju)):\n",
    "    if i == 1 or i == 2:\n",
    "        print(list_ukuran_baju[i])"
   ]
  },
  {
   "cell_type": "code",
   "execution_count": null,
   "metadata": {},
   "outputs": [],
   "source": [
    "#case: apabila ada 2 list, print data di dalam list tersebut apabila data di kedua list adalah sama, \n",
    "#apabila berbeda maka akan melakukan print nama kita sebanyak angka di dalam data yg di list pertama"
   ]
  },
  {
   "cell_type": "code",
   "execution_count": null,
   "metadata": {},
   "outputs": [],
   "source": [
    "[10,11,12,13] - 1\n",
    "[15,14,13,13] - 2\n",
    "\n"
   ]
  },
  {
   "cell_type": "code",
   "execution_count": null,
   "metadata": {},
   "outputs": [],
   "source": [
    "list1 = [1,2,3,4]\n",
    "list2 = [5,2,1,3]\n",
    "nama = 'doni'\n",
    "\n",
    "for i in range(len(list1)):\n",
    "    if list1[i] == list2[i]:\n",
    "        print(list1[i])\n",
    "    else:\n",
    "        x = 0\n",
    "        while x <= list1[i]:\n",
    "            print(nama)\n",
    "            x = x+1"
   ]
  },
  {
   "cell_type": "markdown",
   "metadata": {},
   "source": [
    "case: kita membutuhkan fungsi untuk menghitung jumlah dari list A, kemudian jumlah tersebut ditambahkan kedalam umur kita"
   ]
  },
  {
   "cell_type": "code",
   "execution_count": null,
   "metadata": {},
   "outputs": [],
   "source": [
    "list_A =[10,20,30]\n",
    "umur=29\n",
    "\n",
    "def coba(list_A,umur):\n",
    "    for i in range (len(list_A)):\n",
    "        umur = list_A[i]+umur\n",
    "    print (umur)\n",
    "    return umur\n",
    "\n",
    "z = coba(list_A,umur)"
   ]
  },
  {
   "cell_type": "code",
   "execution_count": null,
   "metadata": {},
   "outputs": [],
   "source": [
    "print(z)"
   ]
  },
  {
   "cell_type": "markdown",
   "metadata": {},
   "source": [
    "case: kita membuat 2 fungsi, dimana fungsi pertama adalah untuk mengecek apakah angka itu dapat dibagi oleh suatu angka, hasil dari fungsi tersebut adalah true atau false\n",
    "\n",
    "fungsi yg kedua adalah apabila hasil dari fungsi pertama itu adalah true, maka kita akan mempangkatkan angka tersebut dengan pangkat yang kita inginkan\n",
    "\n",
    "angka = 10\n",
    "angka tsb bs dibagi 3 -> tidak, tidak melakukan apapun\n",
    "\n",
    "angka_2 = 21\n",
    "angka ini bs dibagi 7 atau tidak -> bisa\n",
    "maka hasil akhir ny adalah 21, 4 -> 194,481"
   ]
  },
  {
   "cell_type": "code",
   "execution_count": null,
   "metadata": {},
   "outputs": [],
   "source": [
    "5,3 -> 8\n",
    "\n",
    "def nama_fungsi(input_data_nama):\n",
    "    logic"
   ]
  },
  {
   "cell_type": "code",
   "execution_count": null,
   "metadata": {},
   "outputs": [],
   "source": [
    "a = 5\n",
    "b = 3\n",
    "def jumlah(a,b):\n",
    "    z =a+b\n",
    "    #print(z)\n",
    "    #return z\n",
    "    return"
   ]
  },
  {
   "cell_type": "code",
   "execution_count": null,
   "metadata": {},
   "outputs": [],
   "source": [
    "print(a+2)"
   ]
  },
  {
   "cell_type": "code",
   "execution_count": null,
   "metadata": {},
   "outputs": [],
   "source": [
    "jumlah(a,b)"
   ]
  },
  {
   "cell_type": "code",
   "execution_count": null,
   "metadata": {},
   "outputs": [],
   "source": [
    "v = jumlah(a,b)"
   ]
  },
  {
   "cell_type": "code",
   "execution_count": null,
   "metadata": {},
   "outputs": [],
   "source": [
    "print(v)"
   ]
  },
  {
   "cell_type": "code",
   "execution_count": null,
   "metadata": {},
   "outputs": [],
   "source": [
    "jumlah(a,b)+2"
   ]
  },
  {
   "cell_type": "code",
   "execution_count": null,
   "metadata": {},
   "outputs": [],
   "source": [
    "input_a = 20"
   ]
  },
  {
   "cell_type": "code",
   "execution_count": null,
   "metadata": {},
   "outputs": [],
   "source": [
    "import mod\n",
    "mod.jumlah_kali_dua(10,2)"
   ]
  },
  {
   "cell_type": "code",
   "execution_count": null,
   "metadata": {},
   "outputs": [],
   "source": [
    "import sys\n",
    "sys.path"
   ]
  },
  {
   "cell_type": "code",
   "execution_count": null,
   "metadata": {},
   "outputs": [],
   "source": [
    "sys.path.append('/Users/kitabisa.com/Dropbox/side_job/hacktiv8/20201214/H8_50_v2/folder_baru')"
   ]
  },
  {
   "cell_type": "code",
   "execution_count": null,
   "metadata": {},
   "outputs": [],
   "source": [
    "mod"
   ]
  },
  {
   "cell_type": "code",
   "execution_count": null,
   "metadata": {},
   "outputs": [],
   "source": [
    "from mod import jumlah_kali_dua as z\n",
    "z(10,2)"
   ]
  },
  {
   "cell_type": "markdown",
   "metadata": {},
   "source": [
    "case: buat module untuk \n",
    "menghitung number of data yg ada di dalam suatu list\n",
    "kemudian jumlah data di list tsb\n",
    "kita kalikan dengan masing2 data di dalam list, yg kemudian angka2 tsb kita jumlah\n",
    "\n",
    "a = [10,30,15]\n",
    "20+60=80"
   ]
  },
  {
   "cell_type": "code",
   "execution_count": null,
   "metadata": {},
   "outputs": [],
   "source": [
    "from mbak_nurul_fungsi import latihan_3 as lat3\n",
    "a = lat3([10,30])\n",
    "print(a)"
   ]
  },
  {
   "cell_type": "code",
   "execution_count": null,
   "metadata": {},
   "outputs": [],
   "source": [
    "from mbak_nurul_fungsi import hitung_data_di_list,kalikan_angka_di_list,jumlah_data_di_list\n",
    "\n",
    "list_yg_mau_dihitung = [10,30]\n",
    "\n",
    "n = hitung_data_di_list(list_yg_mau_dihitung)\n",
    "lists3_new = kalikan_angka_di_list(list_yg_mau_dihitung,n)\n",
    "hasil_akhir = jumlah_data_di_list(lists3_new)\n",
    "\n",
    "print(hasil_akhir)"
   ]
  },
  {
   "cell_type": "code",
   "execution_count": null,
   "metadata": {},
   "outputs": [],
   "source": [
    "try:\n",
    "    from mbak_nurul_fungsi import hitung_data_di_list,kalikan_angka_di_list,jumlah_data_di_list\n",
    "\n",
    "    list_yg_mau_dihitung = [10,30]\n",
    "\n",
    "    n = hitung_data_di_list(list_yg_mau_dihitung)\n",
    "    lists3_new = kalikan_angka_di_list(list_yg_mau_dihitung,n)\n",
    "    hasil_akhir = jumlah_data_di_list(lists3_new)\n",
    "\n",
    "    print(hasil_akhir)\n",
    "except TypeError:\n",
    "    print('Harus cari di Google erornya')"
   ]
  },
  {
   "cell_type": "code",
   "execution_count": null,
   "metadata": {},
   "outputs": [],
   "source": [
    "dir()"
   ]
  },
  {
   "cell_type": "markdown",
   "metadata": {},
   "source": [
    "case: buat script python untuk mengkalikan angka yg kita input dikalikan dengan 10\n",
    "\n",
    "input: 20 -> 200\n",
    "input: 5 -> 50"
   ]
  },
  {
   "cell_type": "code",
   "execution_count": null,
   "metadata": {},
   "outputs": [],
   "source": [
    "import numpy as np"
   ]
  },
  {
   "cell_type": "code",
   "execution_count": null,
   "metadata": {},
   "outputs": [],
   "source": [
    "a = [1,2,3,4]\n",
    "b = np.array([[1,2,3,4],[1,0,4,4]])"
   ]
  },
  {
   "cell_type": "code",
   "execution_count": null,
   "metadata": {},
   "outputs": [],
   "source": [
    "print(type(a))\n",
    "print(type(b))"
   ]
  },
  {
   "cell_type": "code",
   "execution_count": null,
   "metadata": {},
   "outputs": [],
   "source": [
    "b.shape"
   ]
  },
  {
   "cell_type": "markdown",
   "metadata": {},
   "source": [
    "case: buat array yg 2D dengan dimensi pertama itu berukuran nama pertama kita, kemudian untuk dimension kedua itu berukuran nama kedua kita, dan nilai ny dimulai dari 0 dengan penambahan sebanyak nama ketiga kita (nama kedua)\n",
    "\n",
    "jaka saputra wahyu\n",
    "\n",
    "(4,5)\n",
    "[[0,5,10,15,20],[0,5,10,15,20],[0,5,10,15,20],[0,5,10,15,20]]"
   ]
  },
  {
   "cell_type": "code",
   "execution_count": null,
   "metadata": {},
   "outputs": [],
   "source": [
    "a = np.array([[0,6,12,18,24],[32,38,44,50,56],[62,68,74,80,86],[92,98,104,110,116],[122,128,1341,140,146]])"
   ]
  },
  {
   "cell_type": "code",
   "execution_count": null,
   "metadata": {},
   "outputs": [],
   "source": [
    "nama_1 = 'jaka'\n",
    "nama_2 = 'saputra'\n",
    "nama_3 = 'wahyu'\n",
    "dimensi_1 = len(nama_1)\n",
    "dimensi_2 = len(nama_2)\n",
    "step_for_array = len(nama_3)\n",
    "z = np.arange(0,step_for_array*dimensi_2,step_for_array)\n",
    "array_placeholder = np.array([])\n",
    "for i in range(dimensi_1):\n",
    "    array_placeholder = np.append(array_placeholder,z)"
   ]
  },
  {
   "cell_type": "code",
   "execution_count": null,
   "metadata": {},
   "outputs": [],
   "source": [
    "print(z)"
   ]
  },
  {
   "cell_type": "code",
   "execution_count": null,
   "metadata": {},
   "outputs": [],
   "source": [
    "print(array_placeholder)"
   ]
  },
  {
   "cell_type": "code",
   "execution_count": null,
   "metadata": {},
   "outputs": [],
   "source": [
    "array_placeholder.reshape(dimensi_1,dimensi_2)"
   ]
  },
  {
   "cell_type": "code",
   "execution_count": null,
   "metadata": {},
   "outputs": [],
   "source": [
    "first = len('fitria')\n",
    "second = len('puspita')\n",
    "third = len('sari')\n",
    "nama = np.zeros((first,second))\n",
    "#print(nama.shape)\n",
    "#print(first)\n",
    "#print(second)\n",
    "\n",
    "\n",
    "k = 0\n",
    "for j in range(first):\n",
    "    #k = 0\n",
    "    #for i in range(0,third*second,third):\n",
    "    for i in range(second):\n",
    "        #nama[j][k] = np.array([i])\n",
    "        #k = k+1\n",
    "        #nama[j] = np.arange(0,third*second,third)\n",
    "        nama[j] = np.arange(k,k+(third*second),third)\n",
    "    k = k+(third*second)\n",
    "\n",
    "#i,j,k -> [i][j][k]\n",
    "\n",
    "print (nama)"
   ]
  },
  {
   "cell_type": "code",
   "execution_count": null,
   "metadata": {},
   "outputs": [],
   "source": [
    "first = len('fitria')\n",
    "second = len('puspita')\n",
    "third = len('sari')\n",
    "nama = np.zeros((first,second))\n",
    "print(nama.shape)\n",
    "for i in range(first,second-1):\n",
    "    nama[i,j] = i, i+third\n",
    "print (nama)"
   ]
  },
  {
   "cell_type": "code",
   "execution_count": null,
   "metadata": {},
   "outputs": [],
   "source": [
    "a = np.array([1,2,3,4])"
   ]
  },
  {
   "cell_type": "code",
   "execution_count": null,
   "metadata": {},
   "outputs": [],
   "source": [
    "a.shape"
   ]
  },
  {
   "cell_type": "code",
   "execution_count": null,
   "metadata": {},
   "outputs": [],
   "source": [
    "b = a.reshape(2,3)\n",
    "print(b)"
   ]
  },
  {
   "cell_type": "code",
   "execution_count": null,
   "metadata": {},
   "outputs": [],
   "source": [
    "nama_2 = nama[nama>10]"
   ]
  },
  {
   "cell_type": "code",
   "execution_count": null,
   "metadata": {},
   "outputs": [],
   "source": [
    "print(nama_2)"
   ]
  },
  {
   "cell_type": "code",
   "execution_count": null,
   "metadata": {},
   "outputs": [],
   "source": [
    "print(nama)"
   ]
  },
  {
   "cell_type": "code",
   "execution_count": null,
   "metadata": {},
   "outputs": [],
   "source": [
    "nama = nama/10"
   ]
  },
  {
   "cell_type": "code",
   "execution_count": null,
   "metadata": {},
   "outputs": [],
   "source": [
    "print(nama)"
   ]
  },
  {
   "cell_type": "markdown",
   "metadata": {},
   "source": [
    "case: ada 3 array 2 dimensi, isiny bebas, dimensi bebas, kemudian ketiga array tsb kita buat jadi 2 array yg isiny adalah\n",
    ",array pertama kombinasi antara array 1,2 dimana itu dimensi pertama ny harus sama dengan dimensi yg array 1\n",
    "array yg kedua kombinasi antara array 2,3 dimana dimensi kedua ny harus sama dengan array 2\n",
    "\n",
    "arr1 = [[1,2,3,4],[5,6,7,8]]\n",
    "arr2 = [[9,10],[11,12],[13,14]] -> 3,2 diubah jadi 2,4 [[9,10,11,12],[11,12,13,14]]\n",
    "arr3 = [[15,16,17,18]]\n",
    "\n",
    "arr5 = [[1,2,3,4,9,10,11,12],[5,6,7,8,11,12,13,14]] -> gabungan antara arr1 dan arr2 (2,7) (2,x)\n",
    "arr6 = [[9,10,15,16],[11,12,17,18],[13,14,17,18]] -> gabungan antara arr2 dengan arr3 (x,4)"
   ]
  },
  {
   "cell_type": "markdown",
   "metadata": {},
   "source": [
    "y = ax + b\n",
    "y = ax1 + ax2 + .. + axn + b\n",
    "y = ax1 + ax2 + b\n",
    "\n",
    "x1 = (4,2) -> variable yg memiliki nested data, image, \n",
    "x2 = (3,2)"
   ]
  },
  {
   "cell_type": "code",
   "execution_count": null,
   "metadata": {},
   "outputs": [],
   "source": [
    "arr1 = np.array([[1,2,3,4],[5,6,7,8]])\n",
    "#arr2 = [[9,10,11,12],[11,12,13,14]]\n",
    "arr2 = np.array([[9,10],[11,12],[13,14]])\n",
    "#np.hstack((arr1,arr2))"
   ]
  },
  {
   "cell_type": "code",
   "execution_count": null,
   "metadata": {},
   "outputs": [],
   "source": [
    "arr2 = np.append(arr2,arr2[1])\n",
    "print(arr2)"
   ]
  },
  {
   "cell_type": "code",
   "execution_count": null,
   "metadata": {},
   "outputs": [],
   "source": [
    "arr2 = arr2.reshape(2,4)\n",
    "print(type(arr2))"
   ]
  },
  {
   "cell_type": "code",
   "execution_count": null,
   "metadata": {},
   "outputs": [],
   "source": [
    "print(arr2)"
   ]
  },
  {
   "cell_type": "code",
   "execution_count": null,
   "metadata": {},
   "outputs": [],
   "source": [
    "arr5 = np.hstack((arr1,arr2))\n",
    "print(arr5)"
   ]
  },
  {
   "cell_type": "code",
   "execution_count": null,
   "metadata": {},
   "outputs": [],
   "source": [
    "z = arr5.shape\n",
    "print(z[0])"
   ]
  },
  {
   "cell_type": "code",
   "execution_count": null,
   "metadata": {},
   "outputs": [],
   "source": [
    "def transform_data(arr1,arr2):\n",
    "    if arr1.shape != arr2.shape:\n",
    "        shape_arr1 = arr1.shape\n",
    "        arr2 = np.append(arr2,arr2[1])\n",
    "        arr2 = arr2.reshape(shape_arr1[0],shape_arr1[1])\n",
    "        arr5 = np.hstack((arr1,arr2))\n",
    "    else:\n",
    "        arr5 = np.hstack((arr1,arr2))\n",
    "    return arr5"
   ]
  },
  {
   "cell_type": "code",
   "execution_count": null,
   "metadata": {},
   "outputs": [],
   "source": [
    "transform_data(arr1,arr2)"
   ]
  },
  {
   "cell_type": "code",
   "execution_count": null,
   "metadata": {},
   "outputs": [],
   "source": [
    "print(arr1)\n",
    "print(arr1.sum())\n",
    "print(arr1.sum(axis=0))\n",
    "print(arr1.sum(axis=0).shape)\n",
    "print(arr1.sum(axis=1))\n",
    "print(arr1.sum(axis=1).shape)"
   ]
  },
  {
   "cell_type": "code",
   "execution_count": null,
   "metadata": {},
   "outputs": [],
   "source": [
    "[1 2 3 4]+[5 6 7 8]\n",
    "[1 5]+[2 6]+[3 7]+[4 8]"
   ]
  },
  {
   "cell_type": "code",
   "execution_count": null,
   "metadata": {},
   "outputs": [],
   "source": [
    "arr1 = np.array([2,3,2]).reshape(3,1)\n",
    "arr2 = np.array([[2,1],[3,2],[4,1],[5,5]]).reshape(2,4)\n",
    "print(arr1.shape)\n",
    "print(arr2.shape)"
   ]
  },
  {
   "cell_type": "code",
   "execution_count": null,
   "metadata": {},
   "outputs": [],
   "source": [
    "arr2.T.shape"
   ]
  },
  {
   "cell_type": "code",
   "execution_count": null,
   "metadata": {},
   "outputs": [],
   "source": [
    "arr1*arr2"
   ]
  },
  {
   "cell_type": "code",
   "execution_count": null,
   "metadata": {},
   "outputs": [],
   "source": [
    "a = [1,2,3]\n",
    "#1*2*3\n",
    "b = 1\n",
    "for i in a:\n",
    "    b = b*i\n",
    "print(b)"
   ]
  },
  {
   "cell_type": "code",
   "execution_count": null,
   "metadata": {},
   "outputs": [],
   "source": [
    "a1 = np.array([1,2,3])\n",
    "a1.prod()"
   ]
  },
  {
   "cell_type": "code",
   "execution_count": null,
   "metadata": {},
   "outputs": [],
   "source": [
    "np.dot(arr1,arr2)"
   ]
  },
  {
   "cell_type": "code",
   "execution_count": 2,
   "metadata": {},
   "outputs": [],
   "source": [
    "import numpy as np\n",
    "import pandas as pd\n",
    "data_df = pd.read_csv('https://raw.githubusercontent.com/ardhiraka/PFDS_sources/master/nbaallelo.csv')"
   ]
  },
  {
   "cell_type": "code",
   "execution_count": null,
   "metadata": {},
   "outputs": [],
   "source": [
    "data_df"
   ]
  },
  {
   "cell_type": "code",
   "execution_count": null,
   "metadata": {},
   "outputs": [],
   "source": [
    "pd.set_option('display.max.columns',None)"
   ]
  },
  {
   "cell_type": "code",
   "execution_count": null,
   "metadata": {},
   "outputs": [],
   "source": [
    "data_df"
   ]
  },
  {
   "cell_type": "code",
   "execution_count": null,
   "metadata": {},
   "outputs": [],
   "source": [
    "data_df.head(10)"
   ]
  },
  {
   "cell_type": "code",
   "execution_count": null,
   "metadata": {},
   "outputs": [],
   "source": [
    "data_df.tail()"
   ]
  },
  {
   "cell_type": "code",
   "execution_count": null,
   "metadata": {},
   "outputs": [],
   "source": [
    "exams_data_df = pd.read_csv('./exams.csv')"
   ]
  },
  {
   "cell_type": "code",
   "execution_count": null,
   "metadata": {},
   "outputs": [],
   "source": [
    "exams_data_df"
   ]
  },
  {
   "cell_type": "code",
   "execution_count": null,
   "metadata": {},
   "outputs": [],
   "source": [
    "print('data berukuran',len(data_df),'rows')"
   ]
  },
  {
   "cell_type": "code",
   "execution_count": null,
   "metadata": {},
   "outputs": [],
   "source": [
    "print('data berdimensi',data_df.shape)"
   ]
  },
  {
   "cell_type": "code",
   "execution_count": null,
   "metadata": {},
   "outputs": [],
   "source": [
    "print('information on dataframe NBA\\n')\n",
    "data_df.info()"
   ]
  },
  {
   "cell_type": "code",
   "execution_count": null,
   "metadata": {},
   "outputs": [],
   "source": [
    "print('Basic Statistic NBA Data')\n",
    "data_df.describe()"
   ]
  },
  {
   "cell_type": "code",
   "execution_count": null,
   "metadata": {},
   "outputs": [],
   "source": [
    "data_df['seasongame']"
   ]
  },
  {
   "cell_type": "code",
   "execution_count": null,
   "metadata": {},
   "outputs": [],
   "source": [
    "data_df[data_df['seasongame']>=100]"
   ]
  },
  {
   "cell_type": "code",
   "execution_count": null,
   "metadata": {},
   "outputs": [],
   "source": [
    "exams_data_df[exams_data_df['gender']=='male']['gender'].count()"
   ]
  },
  {
   "cell_type": "code",
   "execution_count": null,
   "metadata": {
    "scrolled": true
   },
   "outputs": [],
   "source": [
    "exams_data_df"
   ]
  },
  {
   "cell_type": "code",
   "execution_count": null,
   "metadata": {},
   "outputs": [],
   "source": [
    "exams_data_df[exams_data_df['lunch']!='standard']['reading score'].min()"
   ]
  },
  {
   "cell_type": "code",
   "execution_count": null,
   "metadata": {},
   "outputs": [],
   "source": [
    "data_df['pts'].value_counts()"
   ]
  },
  {
   "cell_type": "code",
   "execution_count": null,
   "metadata": {},
   "outputs": [],
   "source": [
    "data_F2016062107S5011628 = pd.read_csv('https://raw.githubusercontent.com/pHeesari/H8_050/master/F2016062107S5011628.CSV',skiprows=[1,2,3,4,5,6],header=)"
   ]
  },
  {
   "cell_type": "code",
   "execution_count": null,
   "metadata": {},
   "outputs": [],
   "source": [
    "data_F2016062107S5011628"
   ]
  },
  {
   "cell_type": "code",
   "execution_count": null,
   "metadata": {},
   "outputs": [],
   "source": [
    "data_df[data_df['pts']>=100]"
   ]
  },
  {
   "cell_type": "code",
   "execution_count": null,
   "metadata": {},
   "outputs": [],
   "source": [
    "data_df[data_df['pts']>=100]['game_id']"
   ]
  },
  {
   "cell_type": "code",
   "execution_count": null,
   "metadata": {},
   "outputs": [],
   "source": [
    "data_df[data_df['pts']>=100]['pts'].min()"
   ]
  },
  {
   "cell_type": "code",
   "execution_count": null,
   "metadata": {},
   "outputs": [],
   "source": [
    "data_df['pts'].min()"
   ]
  },
  {
   "cell_type": "code",
   "execution_count": null,
   "metadata": {},
   "outputs": [],
   "source": [
    "data_df[data_df['pts']>=100]['date_game'].agg(('min','max'))"
   ]
  },
  {
   "cell_type": "code",
   "execution_count": null,
   "metadata": {},
   "outputs": [],
   "source": [
    "data_df[data_df['pts']>=100]['pts'].count()"
   ]
  },
  {
   "cell_type": "markdown",
   "metadata": {},
   "source": [
    "case: dengan data yang exams, ada berapa pelajar wanita ada berapa pria, kemudian max score dari wanita itu adalah berapa dan pria max score ny berapa?"
   ]
  },
  {
   "cell_type": "code",
   "execution_count": null,
   "metadata": {},
   "outputs": [],
   "source": [
    "revenues = pd.Series([100,200,300])"
   ]
  },
  {
   "cell_type": "code",
   "execution_count": null,
   "metadata": {},
   "outputs": [],
   "source": [
    "revenues"
   ]
  },
  {
   "cell_type": "code",
   "execution_count": null,
   "metadata": {},
   "outputs": [],
   "source": [
    "revenues.index"
   ]
  },
  {
   "cell_type": "code",
   "execution_count": null,
   "metadata": {},
   "outputs": [],
   "source": [
    "revenues.values"
   ]
  },
  {
   "cell_type": "code",
   "execution_count": null,
   "metadata": {},
   "outputs": [],
   "source": [
    "data_df['pts'].values"
   ]
  },
  {
   "cell_type": "code",
   "execution_count": null,
   "metadata": {},
   "outputs": [],
   "source": [
    "city_revenues = pd.Series([10,20,30],index=['Jakarta','Bandung','Bogor'])"
   ]
  },
  {
   "cell_type": "code",
   "execution_count": null,
   "metadata": {},
   "outputs": [],
   "source": [
    "city_revenues"
   ]
  },
  {
   "cell_type": "code",
   "execution_count": null,
   "metadata": {},
   "outputs": [],
   "source": [
    "city_revenues.index"
   ]
  },
  {
   "cell_type": "code",
   "execution_count": null,
   "metadata": {},
   "outputs": [],
   "source": [
    "city_employee_count = pd.Series({'Jakarta':100,'Bandung':30})"
   ]
  },
  {
   "cell_type": "code",
   "execution_count": null,
   "metadata": {},
   "outputs": [],
   "source": [
    "city_employee_count"
   ]
  },
  {
   "cell_type": "code",
   "execution_count": null,
   "metadata": {},
   "outputs": [],
   "source": [
    "city_revenues.keys()"
   ]
  },
  {
   "cell_type": "code",
   "execution_count": null,
   "metadata": {},
   "outputs": [],
   "source": [
    "city_data = pd.DataFrame({'revenue':city_revenues,'employee_count':city_employee_count})"
   ]
  },
  {
   "cell_type": "code",
   "execution_count": null,
   "metadata": {},
   "outputs": [],
   "source": [
    "city_data"
   ]
  },
  {
   "cell_type": "code",
   "execution_count": null,
   "metadata": {},
   "outputs": [],
   "source": [
    "data_df"
   ]
  },
  {
   "cell_type": "code",
   "execution_count": null,
   "metadata": {},
   "outputs": [],
   "source": [
    "data_df_trf_idx = data_df.set_index('game_id')"
   ]
  },
  {
   "cell_type": "code",
   "execution_count": null,
   "metadata": {},
   "outputs": [],
   "source": [
    "data_df_trf_idx"
   ]
  },
  {
   "cell_type": "code",
   "execution_count": null,
   "metadata": {},
   "outputs": [],
   "source": [
    "data_df['game_id']"
   ]
  },
  {
   "cell_type": "code",
   "execution_count": null,
   "metadata": {
    "scrolled": true
   },
   "outputs": [],
   "source": [
    "data_df_trf_idx['game_id']"
   ]
  },
  {
   "cell_type": "code",
   "execution_count": null,
   "metadata": {},
   "outputs": [],
   "source": [
    "data_df_trf_idx.values"
   ]
  },
  {
   "cell_type": "code",
   "execution_count": null,
   "metadata": {},
   "outputs": [],
   "source": [
    "data_df_trf_idx.index"
   ]
  },
  {
   "cell_type": "code",
   "execution_count": null,
   "metadata": {},
   "outputs": [],
   "source": [
    "print('ini adalah nama index',data_df_trf_idx.axes[0])"
   ]
  },
  {
   "cell_type": "code",
   "execution_count": null,
   "metadata": {},
   "outputs": [],
   "source": [
    "print('ini adalah nama kolom',data_df_trf_idx.axes[1])"
   ]
  },
  {
   "cell_type": "code",
   "execution_count": null,
   "metadata": {},
   "outputs": [],
   "source": [
    "print('type data axes',type(data_df_trf_idx.axes[1]))"
   ]
  },
  {
   "cell_type": "code",
   "execution_count": null,
   "metadata": {},
   "outputs": [],
   "source": [
    "exams_data_df"
   ]
  },
  {
   "cell_type": "markdown",
   "metadata": {},
   "source": [
    "case: index ny ubah jadi gender, list all column yg tersisa"
   ]
  },
  {
   "cell_type": "code",
   "execution_count": null,
   "metadata": {},
   "outputs": [],
   "source": [
    "exams_data_df_trf = exams_data_df.set_index('gender')"
   ]
  },
  {
   "cell_type": "code",
   "execution_count": null,
   "metadata": {},
   "outputs": [],
   "source": [
    "exams_data_df_trf"
   ]
  },
  {
   "cell_type": "code",
   "execution_count": null,
   "metadata": {},
   "outputs": [],
   "source": [
    "print('ini adalah sisa kolom di data exams',exams_data_df_trf.axes[1])"
   ]
  },
  {
   "cell_type": "code",
   "execution_count": null,
   "metadata": {},
   "outputs": [],
   "source": [
    "data_df_trf_idx"
   ]
  },
  {
   "cell_type": "code",
   "execution_count": null,
   "metadata": {},
   "outputs": [],
   "source": [
    "data_df_trf_idx.iloc[0]"
   ]
  },
  {
   "cell_type": "code",
   "execution_count": null,
   "metadata": {},
   "outputs": [],
   "source": [
    "data_df_trf_idx.loc['194611010TRH']"
   ]
  },
  {
   "cell_type": "code",
   "execution_count": null,
   "metadata": {},
   "outputs": [],
   "source": [
    "type(data_df_trf_idx.loc['194611010TRH'])"
   ]
  },
  {
   "cell_type": "code",
   "execution_count": null,
   "metadata": {},
   "outputs": [],
   "source": [
    "type(data_df_trf_idx.iloc[0])"
   ]
  },
  {
   "cell_type": "code",
   "execution_count": null,
   "metadata": {},
   "outputs": [],
   "source": [
    "data_df_trf_idx.iloc[:20]"
   ]
  },
  {
   "cell_type": "code",
   "execution_count": null,
   "metadata": {},
   "outputs": [],
   "source": [
    "data_df_trf_idx['fran_id']"
   ]
  },
  {
   "cell_type": "code",
   "execution_count": null,
   "metadata": {},
   "outputs": [],
   "source": [
    "data_df_trf_idx.fran_id"
   ]
  },
  {
   "cell_type": "code",
   "execution_count": null,
   "metadata": {},
   "outputs": [],
   "source": [
    "data_df[(data_df['pts']>=100)&(data_df['team_id']=='STB')]"
   ]
  },
  {
   "cell_type": "code",
   "execution_count": null,
   "metadata": {},
   "outputs": [],
   "source": [
    "data_df[(data_df['pts']>=100)|(data_df['team_id']=='STB')]"
   ]
  },
  {
   "cell_type": "code",
   "execution_count": null,
   "metadata": {},
   "outputs": [],
   "source": [
    "data_df[data_df['fran_id'].str.endswith('s')]"
   ]
  },
  {
   "cell_type": "code",
   "execution_count": null,
   "metadata": {},
   "outputs": [],
   "source": [
    "data_df[data_df['notes'].notnull()]"
   ]
  },
  {
   "cell_type": "markdown",
   "metadata": {},
   "source": [
    "case: \n",
    "1. berapa jumlah wanita yg memiliki nilai matematika antara 50 sampai 60 yang juga dia memiliki orang tua yg lulus kuliah?\n",
    "2. berapa jumlah pria yg dia memiliki nilai dibawah nilai minimum wanita, kemudian di jabarkan dia etnis ny di grup apa dan orang tua nya pny edukasi apa saja?"
   ]
  },
  {
   "cell_type": "code",
   "execution_count": null,
   "metadata": {},
   "outputs": [],
   "source": [
    "exams_data_df"
   ]
  },
  {
   "cell_type": "code",
   "execution_count": null,
   "metadata": {},
   "outputs": [],
   "source": [
    "data_df = exams_data_df\n",
    "data_female = data_df[data_df[\"gender\"]==\"female\"]\n",
    "data_female_math = data_female[(data_female[\"math score\"] <60) & (data_female[\"math score\"] > 50)]"
   ]
  },
  {
   "cell_type": "code",
   "execution_count": null,
   "metadata": {},
   "outputs": [],
   "source": [
    "data_female_math = data_female_math[data_female['parental level of education'].str.endswith('degree')]"
   ]
  },
  {
   "cell_type": "code",
   "execution_count": null,
   "metadata": {},
   "outputs": [],
   "source": [
    "data_female_test = data_df[(data_df[\"gender\"]==\"female\")&(data_female[\"math score\"] <60) & (data_female[\"math score\"] > 50) & (data_female['parental level of education'].str.endswith('degree'))]"
   ]
  },
  {
   "cell_type": "code",
   "execution_count": null,
   "metadata": {},
   "outputs": [],
   "source": [
    "data_female_test"
   ]
  },
  {
   "cell_type": "code",
   "execution_count": null,
   "metadata": {},
   "outputs": [],
   "source": [
    "data_female_math['gender'].count()"
   ]
  },
  {
   "cell_type": "code",
   "execution_count": null,
   "metadata": {},
   "outputs": [],
   "source": [
    "min_female_math = data_df[data_df[\"gender\"]==\"female\"][\"math score\"].min()\n",
    "male_lessthan_female_math = data_df[(data_df[\"gender\"] == \"male\") & (data_df[\"math score\"]< min_female_math)]\n",
    "male_parented_math = male_lessthan_female_math[\"parental level of education\"].value_counts()\n",
    "male_race_math = male_lessthan_female_math[\"race/ethnicity\"].value_counts()"
   ]
  },
  {
   "cell_type": "code",
   "execution_count": null,
   "metadata": {},
   "outputs": [],
   "source": [
    "male_race_math"
   ]
  },
  {
   "cell_type": "code",
   "execution_count": null,
   "metadata": {},
   "outputs": [],
   "source": [
    "min_female_read = data_df[data_df[\"gender\"]==\"female\"] [\"reading score\"].min()\n",
    "male_lessthan_female_read = data_df[(data_df[\"gender\"] == \"male\") & (data_df[\"reading score\"]< min_female_read)]\n",
    "male_parented_read = male_lessthan_female_read[\"parental level of education\"].value_counts()\n",
    "male_race_read = male_lessthan_female_read[\"race/ethnicity\"].value_counts()\n",
    "male_race_read"
   ]
  },
  {
   "cell_type": "code",
   "execution_count": null,
   "metadata": {},
   "outputs": [],
   "source": [
    "min_female_write= data_df[data_df[\"gender\"]==\"female\"] [\"writing score\"].min()\n",
    "male_lessthan_female_write= data_df[(data_df[\"gender\"] == \"male\") & (data_df[\"writing score\"]< min_female_write)]\n",
    "male_parented_write = male_lessthan_female_write[\"parental level of education\"].value_counts()\n",
    "male_race_write = male_lessthan_female_write[\"race/ethnicity\"].value_counts()\n",
    "male_race_write"
   ]
  },
  {
   "cell_type": "code",
   "execution_count": null,
   "metadata": {},
   "outputs": [],
   "source": [
    "#case: dengan data yang exams, ada berapa pelajar wanita ada berapa pria, kemudian max score dari wanita itu adalah berapa dan pria max score ny berapa?\n",
    "exams_data_df.groupby(['gender'])['gender'].count()"
   ]
  },
  {
   "cell_type": "code",
   "execution_count": null,
   "metadata": {},
   "outputs": [],
   "source": [
    "exams_data_df.groupby(['gender'])['math score'].max()"
   ]
  },
  {
   "cell_type": "code",
   "execution_count": null,
   "metadata": {},
   "outputs": [],
   "source": [
    "type(exams_data_df.groupby(['gender'])['math score'].max())"
   ]
  },
  {
   "cell_type": "code",
   "execution_count": null,
   "metadata": {},
   "outputs": [],
   "source": [
    "exams_data_df.groupby(['gender'])['math score'].max().keys()"
   ]
  },
  {
   "cell_type": "code",
   "execution_count": null,
   "metadata": {},
   "outputs": [],
   "source": [
    "data_df[data_df[\"gender\"]==\"female\"] [\"writing score\"].min()"
   ]
  },
  {
   "cell_type": "code",
   "execution_count": null,
   "metadata": {},
   "outputs": [],
   "source": [
    "type(data_df[data_df[\"gender\"]==\"female\"] [\"writing score\"].min())"
   ]
  },
  {
   "cell_type": "code",
   "execution_count": null,
   "metadata": {},
   "outputs": [],
   "source": [
    "data_df"
   ]
  },
  {
   "cell_type": "code",
   "execution_count": null,
   "metadata": {},
   "outputs": [],
   "source": [
    "data_df['kolom_baru'] = 10"
   ]
  },
  {
   "cell_type": "code",
   "execution_count": null,
   "metadata": {},
   "outputs": [],
   "source": [
    "data_df['difference'] = data_df['pts']-data_df['opp_pts']"
   ]
  },
  {
   "cell_type": "code",
   "execution_count": null,
   "metadata": {},
   "outputs": [],
   "source": [
    "data_df.shape"
   ]
  },
  {
   "cell_type": "code",
   "execution_count": null,
   "metadata": {},
   "outputs": [],
   "source": [
    "data_df_new = data_df.copy()"
   ]
  },
  {
   "cell_type": "code",
   "execution_count": null,
   "metadata": {},
   "outputs": [],
   "source": [
    "data_df_new.to_csv('./nba_data_trf.csv')"
   ]
  },
  {
   "cell_type": "code",
   "execution_count": null,
   "metadata": {},
   "outputs": [],
   "source": [
    "data_df_new"
   ]
  },
  {
   "cell_type": "code",
   "execution_count": null,
   "metadata": {},
   "outputs": [],
   "source": [
    "data_df_new.drop(['game_id'],axis=1,inplace=True)"
   ]
  },
  {
   "cell_type": "code",
   "execution_count": null,
   "metadata": {},
   "outputs": [],
   "source": [
    "data_df_new = data_df_new.drop(['game_id'],axis=1)"
   ]
  },
  {
   "cell_type": "code",
   "execution_count": null,
   "metadata": {},
   "outputs": [],
   "source": [
    "data_df.info()"
   ]
  },
  {
   "cell_type": "code",
   "execution_count": null,
   "metadata": {},
   "outputs": [],
   "source": [
    "data_df['date_game'] = pd.to_datetime(data_df['date_game'])"
   ]
  },
  {
   "cell_type": "code",
   "execution_count": null,
   "metadata": {},
   "outputs": [],
   "source": [
    "data_df['date_game'].nunique()"
   ]
  },
  {
   "cell_type": "code",
   "execution_count": null,
   "metadata": {},
   "outputs": [],
   "source": [
    "data_df['date_game'].value_counts()"
   ]
  },
  {
   "cell_type": "code",
   "execution_count": null,
   "metadata": {},
   "outputs": [],
   "source": [
    "data_df.groupby(['date_game'])['date_game'].count()"
   ]
  },
  {
   "cell_type": "code",
   "execution_count": null,
   "metadata": {},
   "outputs": [],
   "source": [
    "data_df.isnull().sum()"
   ]
  },
  {
   "cell_type": "code",
   "execution_count": null,
   "metadata": {},
   "outputs": [],
   "source": [
    "df.isnull()"
   ]
  },
  {
   "cell_type": "code",
   "execution_count": null,
   "metadata": {},
   "outputs": [],
   "source": [
    "data_df_without_null = data_df.dropna()"
   ]
  },
  {
   "cell_type": "code",
   "execution_count": null,
   "metadata": {},
   "outputs": [],
   "source": [
    "data_df_without_null[]"
   ]
  },
  {
   "cell_type": "code",
   "execution_count": null,
   "metadata": {},
   "outputs": [],
   "source": [
    "for x in data_df['notes'].values:\n",
    "    #print(type(x))\n",
    "    if x is None:\n",
    "        print('a')"
   ]
  },
  {
   "cell_type": "code",
   "execution_count": null,
   "metadata": {},
   "outputs": [],
   "source": [
    "data_df[(data_df['date_game']>='2010-01-01')&(data_df['fran_id']=='Hawks')].groupby(['date_game'])['date_game'].count().plot(kind='bar')"
   ]
  },
  {
   "cell_type": "code",
   "execution_count": 10,
   "metadata": {},
   "outputs": [],
   "source": [
    "%matplotlib inline"
   ]
  },
  {
   "cell_type": "markdown",
   "metadata": {},
   "source": [
    "case: \n",
    "coba cek exams data itu ada data missing atau tidak, ada invalid atau tidak, ada inconsistent atau tidak\n",
    "coba buat pie chart untuk jumlah per gender dan jumlah per parental education"
   ]
  },
  {
   "cell_type": "code",
   "execution_count": null,
   "metadata": {},
   "outputs": [],
   "source": [
    "exams_data_df"
   ]
  },
  {
   "cell_type": "code",
   "execution_count": null,
   "metadata": {},
   "outputs": [],
   "source": [
    "exams_data_df.isnull().sum()"
   ]
  },
  {
   "cell_type": "code",
   "execution_count": null,
   "metadata": {},
   "outputs": [],
   "source": [
    "exams_data_df.gender.isnull().sum()"
   ]
  },
  {
   "cell_type": "code",
   "execution_count": null,
   "metadata": {},
   "outputs": [],
   "source": [
    "data_property_df = pd.read_csv('https://raw.githubusercontent.com/ardhiraka/PFDS_sources/master/property_data.csv')"
   ]
  },
  {
   "cell_type": "code",
   "execution_count": null,
   "metadata": {},
   "outputs": [],
   "source": [
    "data_property_df"
   ]
  },
  {
   "cell_type": "code",
   "execution_count": null,
   "metadata": {},
   "outputs": [],
   "source": [
    "data_property_df.isnull()"
   ]
  },
  {
   "cell_type": "code",
   "execution_count": null,
   "metadata": {},
   "outputs": [],
   "source": [
    "missing_values = ['n/a','na','--','12']"
   ]
  },
  {
   "cell_type": "code",
   "execution_count": null,
   "metadata": {},
   "outputs": [],
   "source": [
    "data_property_df = pd.read_csv('https://raw.githubusercontent.com/ardhiraka/PFDS_sources/master/property_data.csv',na_values=missing_values)"
   ]
  },
  {
   "cell_type": "code",
   "execution_count": null,
   "metadata": {},
   "outputs": [],
   "source": [
    "data_property_df"
   ]
  },
  {
   "cell_type": "code",
   "execution_count": null,
   "metadata": {},
   "outputs": [],
   "source": [
    "data_property_df"
   ]
  },
  {
   "cell_type": "code",
   "execution_count": null,
   "metadata": {},
   "outputs": [],
   "source": [
    "data_property_df.isnull()"
   ]
  },
  {
   "cell_type": "code",
   "execution_count": null,
   "metadata": {},
   "outputs": [],
   "source": [
    "exams_data_df.groupby(['gender'])['parental level of education'].count().plot(kind='pie')"
   ]
  },
  {
   "cell_type": "code",
   "execution_count": null,
   "metadata": {},
   "outputs": [],
   "source": [
    "try:\n",
    "    printxx\n",
    "except NameError:\n",
    "    print('melakukan sesuatu')"
   ]
  },
  {
   "cell_type": "code",
   "execution_count": null,
   "metadata": {},
   "outputs": [],
   "source": [
    "int('1')/3"
   ]
  },
  {
   "cell_type": "code",
   "execution_count": null,
   "metadata": {},
   "outputs": [],
   "source": [
    "int('HURLEY')/3"
   ]
  },
  {
   "cell_type": "code",
   "execution_count": null,
   "metadata": {},
   "outputs": [],
   "source": [
    "counter = 0\n",
    "for row_data in data_property_df['NUM_BATH']:\n",
    "    try:\n",
    "        int(row_data)\n",
    "    except ValueError:\n",
    "        data_property_df.loc[counter,'NUM_BATH']=np.nan\n",
    "    counter=counter+1"
   ]
  },
  {
   "cell_type": "code",
   "execution_count": null,
   "metadata": {},
   "outputs": [],
   "source": [
    "data_property_df"
   ]
  },
  {
   "cell_type": "code",
   "execution_count": null,
   "metadata": {},
   "outputs": [],
   "source": [
    "data_property_df.to_csv('./data_property.csv')"
   ]
  },
  {
   "cell_type": "code",
   "execution_count": null,
   "metadata": {},
   "outputs": [],
   "source": [
    "data_property_2_df = pd.read_csv('./data_property.csv')"
   ]
  },
  {
   "cell_type": "code",
   "execution_count": null,
   "metadata": {},
   "outputs": [],
   "source": [
    "data_property_2_df"
   ]
  },
  {
   "cell_type": "code",
   "execution_count": null,
   "metadata": {},
   "outputs": [],
   "source": [
    "data_property_2_df.loc[0]"
   ]
  },
  {
   "cell_type": "code",
   "execution_count": null,
   "metadata": {},
   "outputs": [],
   "source": [
    "data_property_2_df.iloc[0]"
   ]
  },
  {
   "cell_type": "code",
   "execution_count": null,
   "metadata": {},
   "outputs": [],
   "source": [
    "data_property_df['ST_NUM'].fillna(125)"
   ]
  },
  {
   "cell_type": "code",
   "execution_count": null,
   "metadata": {},
   "outputs": [],
   "source": [
    "data_property_df"
   ]
  },
  {
   "cell_type": "code",
   "execution_count": null,
   "metadata": {},
   "outputs": [],
   "source": [
    "data_property_df.loc[2,'ST_NUM'] = 125"
   ]
  },
  {
   "cell_type": "code",
   "execution_count": null,
   "metadata": {},
   "outputs": [],
   "source": [
    "data_obes_df = pd.read_excel('./obes.xls',sheet_name='7.2',skiprows=4,skipfooter=14)"
   ]
  },
  {
   "cell_type": "code",
   "execution_count": null,
   "metadata": {},
   "outputs": [],
   "source": [
    "data_obes_df"
   ]
  },
  {
   "cell_type": "code",
   "execution_count": null,
   "metadata": {},
   "outputs": [],
   "source": [
    "data_obes_df.rename(columns={'Unnamed: 0':'Year'},inplace=True)"
   ]
  },
  {
   "cell_type": "code",
   "execution_count": null,
   "metadata": {},
   "outputs": [],
   "source": [
    "data_obes_df.drop([0],axis=0,inplace=True)"
   ]
  },
  {
   "cell_type": "code",
   "execution_count": 3,
   "metadata": {},
   "outputs": [],
   "source": [
    "bmkg_data_df = pd.read_csv('./F2016062107S5011628.csv',skiprows=6,index_col=0,parse_dates=True,na_values=['-','---','----','-----','------'])"
   ]
  },
  {
   "cell_type": "code",
   "execution_count": 4,
   "metadata": {},
   "outputs": [
    {
     "data": {
      "text/html": [
       "<div>\n",
       "<style scoped>\n",
       "    .dataframe tbody tr th:only-of-type {\n",
       "        vertical-align: middle;\n",
       "    }\n",
       "\n",
       "    .dataframe tbody tr th {\n",
       "        vertical-align: top;\n",
       "    }\n",
       "\n",
       "    .dataframe thead th {\n",
       "        text-align: right;\n",
       "    }\n",
       "</style>\n",
       "<table border=\"1\" class=\"dataframe\">\n",
       "  <thead>\n",
       "    <tr style=\"text-align: right;\">\n",
       "      <th></th>\n",
       "      <th>DCnt</th>\n",
       "      <th>ST</th>\n",
       "      <th>RE</th>\n",
       "      <th>SondeN</th>\n",
       "      <th>FCnt</th>\n",
       "      <th>AGC</th>\n",
       "      <th>rcvFREQ</th>\n",
       "      <th>WM</th>\n",
       "      <th>WD</th>\n",
       "      <th>WS</th>\n",
       "      <th>...</th>\n",
       "      <th>FSP4</th>\n",
       "      <th>N</th>\n",
       "      <th>N1</th>\n",
       "      <th>N2</th>\n",
       "      <th>N3</th>\n",
       "      <th>N4</th>\n",
       "      <th>N5</th>\n",
       "      <th>N6</th>\n",
       "      <th>N7</th>\n",
       "      <th>N8</th>\n",
       "    </tr>\n",
       "    <tr>\n",
       "      <th>ObsTime</th>\n",
       "      <th></th>\n",
       "      <th></th>\n",
       "      <th></th>\n",
       "      <th></th>\n",
       "      <th></th>\n",
       "      <th></th>\n",
       "      <th></th>\n",
       "      <th></th>\n",
       "      <th></th>\n",
       "      <th></th>\n",
       "      <th></th>\n",
       "      <th></th>\n",
       "      <th></th>\n",
       "      <th></th>\n",
       "      <th></th>\n",
       "      <th></th>\n",
       "      <th></th>\n",
       "      <th></th>\n",
       "      <th></th>\n",
       "      <th></th>\n",
       "      <th></th>\n",
       "    </tr>\n",
       "  </thead>\n",
       "  <tbody>\n",
       "    <tr>\n",
       "      <td>2021-01-04 07:32:44</td>\n",
       "      <td>0.0</td>\n",
       "      <td>7</td>\n",
       "      <td>0.0</td>\n",
       "      <td>5011628</td>\n",
       "      <td>400.0</td>\n",
       "      <td>0.0</td>\n",
       "      <td>404.20648</td>\n",
       "      <td>1.0</td>\n",
       "      <td>0.00</td>\n",
       "      <td>0.00</td>\n",
       "      <td>...</td>\n",
       "      <td>0.0</td>\n",
       "      <td>10.0</td>\n",
       "      <td>10</td>\n",
       "      <td>14</td>\n",
       "      <td>16</td>\n",
       "      <td>21</td>\n",
       "      <td>22</td>\n",
       "      <td>26</td>\n",
       "      <td>27</td>\n",
       "      <td>31</td>\n",
       "    </tr>\n",
       "    <tr>\n",
       "      <td>2021-01-04 07:32:45</td>\n",
       "      <td>2.0</td>\n",
       "      <td>7</td>\n",
       "      <td>0.0</td>\n",
       "      <td>5011628</td>\n",
       "      <td>402.0</td>\n",
       "      <td>0.0</td>\n",
       "      <td>404.20648</td>\n",
       "      <td>1.0</td>\n",
       "      <td>351.29</td>\n",
       "      <td>0.08</td>\n",
       "      <td>...</td>\n",
       "      <td>0.0</td>\n",
       "      <td>10.0</td>\n",
       "      <td>10</td>\n",
       "      <td>14</td>\n",
       "      <td>16</td>\n",
       "      <td>21</td>\n",
       "      <td>22</td>\n",
       "      <td>26</td>\n",
       "      <td>27</td>\n",
       "      <td>31</td>\n",
       "    </tr>\n",
       "    <tr>\n",
       "      <td>2021-01-04 07:32:46</td>\n",
       "      <td>4.0</td>\n",
       "      <td>7</td>\n",
       "      <td>0.0</td>\n",
       "      <td>5011628</td>\n",
       "      <td>404.0</td>\n",
       "      <td>0.0</td>\n",
       "      <td>404.20648</td>\n",
       "      <td>1.0</td>\n",
       "      <td>351.29</td>\n",
       "      <td>0.11</td>\n",
       "      <td>...</td>\n",
       "      <td>0.0</td>\n",
       "      <td>10.0</td>\n",
       "      <td>10</td>\n",
       "      <td>14</td>\n",
       "      <td>16</td>\n",
       "      <td>21</td>\n",
       "      <td>22</td>\n",
       "      <td>26</td>\n",
       "      <td>27</td>\n",
       "      <td>31</td>\n",
       "    </tr>\n",
       "    <tr>\n",
       "      <td>2021-01-04 07:32:47</td>\n",
       "      <td>6.0</td>\n",
       "      <td>7</td>\n",
       "      <td>0.0</td>\n",
       "      <td>5011628</td>\n",
       "      <td>406.0</td>\n",
       "      <td>0.0</td>\n",
       "      <td>404.20648</td>\n",
       "      <td>1.0</td>\n",
       "      <td>351.29</td>\n",
       "      <td>0.09</td>\n",
       "      <td>...</td>\n",
       "      <td>0.0</td>\n",
       "      <td>10.0</td>\n",
       "      <td>10</td>\n",
       "      <td>14</td>\n",
       "      <td>16</td>\n",
       "      <td>21</td>\n",
       "      <td>22</td>\n",
       "      <td>26</td>\n",
       "      <td>27</td>\n",
       "      <td>31</td>\n",
       "    </tr>\n",
       "    <tr>\n",
       "      <td>2021-01-04 07:32:48</td>\n",
       "      <td>8.0</td>\n",
       "      <td>7</td>\n",
       "      <td>0.0</td>\n",
       "      <td>5011628</td>\n",
       "      <td>408.0</td>\n",
       "      <td>0.0</td>\n",
       "      <td>404.20648</td>\n",
       "      <td>1.0</td>\n",
       "      <td>351.29</td>\n",
       "      <td>0.13</td>\n",
       "      <td>...</td>\n",
       "      <td>0.0</td>\n",
       "      <td>10.0</td>\n",
       "      <td>10</td>\n",
       "      <td>14</td>\n",
       "      <td>16</td>\n",
       "      <td>21</td>\n",
       "      <td>22</td>\n",
       "      <td>26</td>\n",
       "      <td>27</td>\n",
       "      <td>31</td>\n",
       "    </tr>\n",
       "    <tr>\n",
       "      <td>...</td>\n",
       "      <td>...</td>\n",
       "      <td>...</td>\n",
       "      <td>...</td>\n",
       "      <td>...</td>\n",
       "      <td>...</td>\n",
       "      <td>...</td>\n",
       "      <td>...</td>\n",
       "      <td>...</td>\n",
       "      <td>...</td>\n",
       "      <td>...</td>\n",
       "      <td>...</td>\n",
       "      <td>...</td>\n",
       "      <td>...</td>\n",
       "      <td>...</td>\n",
       "      <td>...</td>\n",
       "      <td>...</td>\n",
       "      <td>...</td>\n",
       "      <td>...</td>\n",
       "      <td>...</td>\n",
       "      <td>...</td>\n",
       "      <td>...</td>\n",
       "    </tr>\n",
       "    <tr>\n",
       "      <td>2021-01-04 08:52:58</td>\n",
       "      <td>9628.0</td>\n",
       "      <td>7</td>\n",
       "      <td>0.0</td>\n",
       "      <td>5011628</td>\n",
       "      <td>10036.0</td>\n",
       "      <td>0.0</td>\n",
       "      <td>404.21092</td>\n",
       "      <td>1.0</td>\n",
       "      <td>266.80</td>\n",
       "      <td>15.30</td>\n",
       "      <td>...</td>\n",
       "      <td>0.0</td>\n",
       "      <td>12.0</td>\n",
       "      <td>03</td>\n",
       "      <td>08</td>\n",
       "      <td>10</td>\n",
       "      <td>14</td>\n",
       "      <td>16</td>\n",
       "      <td>21</td>\n",
       "      <td>22</td>\n",
       "      <td>26</td>\n",
       "    </tr>\n",
       "    <tr>\n",
       "      <td>2021-01-04 08:52:59</td>\n",
       "      <td>9630.0</td>\n",
       "      <td>7</td>\n",
       "      <td>0.0</td>\n",
       "      <td>5011628</td>\n",
       "      <td>10038.0</td>\n",
       "      <td>0.0</td>\n",
       "      <td>404.21092</td>\n",
       "      <td>1.0</td>\n",
       "      <td>266.41</td>\n",
       "      <td>15.35</td>\n",
       "      <td>...</td>\n",
       "      <td>0.0</td>\n",
       "      <td>12.0</td>\n",
       "      <td>03</td>\n",
       "      <td>08</td>\n",
       "      <td>10</td>\n",
       "      <td>14</td>\n",
       "      <td>16</td>\n",
       "      <td>21</td>\n",
       "      <td>22</td>\n",
       "      <td>26</td>\n",
       "    </tr>\n",
       "    <tr>\n",
       "      <td>2021-01-04 08:53:00</td>\n",
       "      <td>9632.0</td>\n",
       "      <td>7</td>\n",
       "      <td>0.0</td>\n",
       "      <td>5011628</td>\n",
       "      <td>10040.0</td>\n",
       "      <td>0.0</td>\n",
       "      <td>404.21092</td>\n",
       "      <td>1.0</td>\n",
       "      <td>265.87</td>\n",
       "      <td>15.37</td>\n",
       "      <td>...</td>\n",
       "      <td>0.0</td>\n",
       "      <td>12.0</td>\n",
       "      <td>03</td>\n",
       "      <td>08</td>\n",
       "      <td>10</td>\n",
       "      <td>14</td>\n",
       "      <td>16</td>\n",
       "      <td>21</td>\n",
       "      <td>22</td>\n",
       "      <td>26</td>\n",
       "    </tr>\n",
       "    <tr>\n",
       "      <td>2021-01-04 08:53:01</td>\n",
       "      <td>9634.0</td>\n",
       "      <td>7</td>\n",
       "      <td>0.0</td>\n",
       "      <td>5011628</td>\n",
       "      <td>10042.0</td>\n",
       "      <td>0.0</td>\n",
       "      <td>404.21092</td>\n",
       "      <td>1.0</td>\n",
       "      <td>265.20</td>\n",
       "      <td>15.37</td>\n",
       "      <td>...</td>\n",
       "      <td>0.0</td>\n",
       "      <td>12.0</td>\n",
       "      <td>03</td>\n",
       "      <td>08</td>\n",
       "      <td>10</td>\n",
       "      <td>14</td>\n",
       "      <td>16</td>\n",
       "      <td>21</td>\n",
       "      <td>22</td>\n",
       "      <td>26</td>\n",
       "    </tr>\n",
       "    <tr>\n",
       "      <td>2021-01-04 08:53:02</td>\n",
       "      <td>9636.0</td>\n",
       "      <td>7</td>\n",
       "      <td>0.0</td>\n",
       "      <td>5011628</td>\n",
       "      <td>10044.0</td>\n",
       "      <td>0.0</td>\n",
       "      <td>404.21092</td>\n",
       "      <td>1.0</td>\n",
       "      <td>264.36</td>\n",
       "      <td>15.37</td>\n",
       "      <td>...</td>\n",
       "      <td>0.0</td>\n",
       "      <td>12.0</td>\n",
       "      <td>03</td>\n",
       "      <td>08</td>\n",
       "      <td>10</td>\n",
       "      <td>14</td>\n",
       "      <td>16</td>\n",
       "      <td>21</td>\n",
       "      <td>22</td>\n",
       "      <td>26</td>\n",
       "    </tr>\n",
       "  </tbody>\n",
       "</table>\n",
       "<p>4819 rows × 40 columns</p>\n",
       "</div>"
      ],
      "text/plain": [
       "                       DCnt  ST   RE   SondeN     FCnt  AGC    rcvFREQ   WM  \\\n",
       " ObsTime                                                                      \n",
       "2021-01-04 07:32:44     0.0   7  0.0  5011628    400.0  0.0  404.20648  1.0   \n",
       "2021-01-04 07:32:45     2.0   7  0.0  5011628    402.0  0.0  404.20648  1.0   \n",
       "2021-01-04 07:32:46     4.0   7  0.0  5011628    404.0  0.0  404.20648  1.0   \n",
       "2021-01-04 07:32:47     6.0   7  0.0  5011628    406.0  0.0  404.20648  1.0   \n",
       "2021-01-04 07:32:48     8.0   7  0.0  5011628    408.0  0.0  404.20648  1.0   \n",
       "...                     ...  ..  ...      ...      ...  ...        ...  ...   \n",
       "2021-01-04 08:52:58  9628.0   7  0.0  5011628  10036.0  0.0  404.21092  1.0   \n",
       "2021-01-04 08:52:59  9630.0   7  0.0  5011628  10038.0  0.0  404.21092  1.0   \n",
       "2021-01-04 08:53:00  9632.0   7  0.0  5011628  10040.0  0.0  404.21092  1.0   \n",
       "2021-01-04 08:53:01  9634.0   7  0.0  5011628  10042.0  0.0  404.21092  1.0   \n",
       "2021-01-04 08:53:02  9636.0   7  0.0  5011628  10044.0  0.0  404.21092  1.0   \n",
       "\n",
       "                         WD      WS  ...    FSP4     N  N1  N2  N3  N4  N5  \\\n",
       " ObsTime                             ...                                     \n",
       "2021-01-04 07:32:44    0.00    0.00  ...     0.0  10.0  10  14  16  21  22   \n",
       "2021-01-04 07:32:45  351.29    0.08  ...     0.0  10.0  10  14  16  21  22   \n",
       "2021-01-04 07:32:46  351.29    0.11  ...     0.0  10.0  10  14  16  21  22   \n",
       "2021-01-04 07:32:47  351.29    0.09  ...     0.0  10.0  10  14  16  21  22   \n",
       "2021-01-04 07:32:48  351.29    0.13  ...     0.0  10.0  10  14  16  21  22   \n",
       "...                     ...     ...  ...     ...   ...  ..  ..  ..  ..  ..   \n",
       "2021-01-04 08:52:58  266.80   15.30  ...     0.0  12.0  03  08  10  14  16   \n",
       "2021-01-04 08:52:59  266.41   15.35  ...     0.0  12.0  03  08  10  14  16   \n",
       "2021-01-04 08:53:00  265.87   15.37  ...     0.0  12.0  03  08  10  14  16   \n",
       "2021-01-04 08:53:01  265.20   15.37  ...     0.0  12.0  03  08  10  14  16   \n",
       "2021-01-04 08:53:02  264.36   15.37  ...     0.0  12.0  03  08  10  14  16   \n",
       "\n",
       "                     N6  N7  N8  \n",
       " ObsTime                         \n",
       "2021-01-04 07:32:44  26  27  31  \n",
       "2021-01-04 07:32:45  26  27  31  \n",
       "2021-01-04 07:32:46  26  27  31  \n",
       "2021-01-04 07:32:47  26  27  31  \n",
       "2021-01-04 07:32:48  26  27  31  \n",
       "...                  ..  ..  ..  \n",
       "2021-01-04 08:52:58  21  22  26  \n",
       "2021-01-04 08:52:59  21  22  26  \n",
       "2021-01-04 08:53:00  21  22  26  \n",
       "2021-01-04 08:53:01  21  22  26  \n",
       "2021-01-04 08:53:02  21  22  26  \n",
       "\n",
       "[4819 rows x 40 columns]"
      ]
     },
     "execution_count": 4,
     "metadata": {},
     "output_type": "execute_result"
    }
   ],
   "source": [
    "bmkg_data_df"
   ]
  },
  {
   "cell_type": "code",
   "execution_count": 5,
   "metadata": {},
   "outputs": [
    {
     "data": {
      "text/plain": [
       " ObsTime\n",
       "2021-01-04 07:32:44    89.0\n",
       "2021-01-04 07:32:45    82.0\n",
       "2021-01-04 07:32:46    82.1\n",
       "2021-01-04 07:32:47    83.6\n",
       "2021-01-04 07:32:48    82.9\n",
       "                       ... \n",
       "2021-01-04 08:52:58     3.2\n",
       "2021-01-04 08:52:59     3.1\n",
       "2021-01-04 08:53:00     3.1\n",
       "2021-01-04 08:53:01     3.0\n",
       "2021-01-04 08:53:02     3.0\n",
       "Name: Humi0, Length: 4819, dtype: float64"
      ]
     },
     "execution_count": 5,
     "metadata": {},
     "output_type": "execute_result"
    }
   ],
   "source": [
    "bmkg_data_df.Humi0"
   ]
  },
  {
   "cell_type": "code",
   "execution_count": 6,
   "metadata": {},
   "outputs": [
    {
     "data": {
      "text/plain": [
       "array(['DCnt', 'ST', 'RE', 'SondeN', ' FCnt', 'AGC', '  rcvFREQ', 'WM',\n",
       "       '   WD', '    WS', ' Height', ' Xdistanc', ' Ydistanc', 'GF',\n",
       "       'HDP', ' PDP', 'GeodetLat', ' GeodetLon', 'V', 'Press0', 'Temp0',\n",
       "       'Humi0', '  FE', '   FRT', '   FTI', '   FVH', '   FVL', '  FSP1',\n",
       "       '  FSP2', '  FSP3', '  FSP4', 'N', 'N1', 'N2', 'N3', 'N4', 'N5',\n",
       "       'N6', 'N7', 'N8'], dtype=object)"
      ]
     },
     "execution_count": 6,
     "metadata": {},
     "output_type": "execute_result"
    }
   ],
   "source": [
    "bmkg_data_df.columns.values"
   ]
  },
  {
   "cell_type": "code",
   "execution_count": null,
   "metadata": {},
   "outputs": [],
   "source": [
    "from datetime import datetime"
   ]
  },
  {
   "cell_type": "code",
   "execution_count": null,
   "metadata": {},
   "outputs": [],
   "source": [
    "opsd_daily = pd.read_csv('https://raw.githubusercontent.com/ardhiraka/PFDS_sources/master/opsd_germany_daily.csv',index_col=0,parse_dates=True)"
   ]
  },
  {
   "cell_type": "code",
   "execution_count": null,
   "metadata": {},
   "outputs": [],
   "source": [
    "opsd_daily.index"
   ]
  },
  {
   "cell_type": "markdown",
   "metadata": {},
   "source": [
    "case:\n",
    "1. jadikan ObsTime itu sebagai index tp harus dalam bentuk datetime\n",
    "2. replace data yg invalid menjadi NaN khusus untuk Humi0,Temp0,WD"
   ]
  },
  {
   "cell_type": "code",
   "execution_count": 3,
   "metadata": {},
   "outputs": [],
   "source": [
    "import pandas as pd\n",
    "import numpy as np\n",
    "data_canada_df = pd.read_excel('https://raw.githubusercontent.com/ardhiraka/PFDS_sources/master/Canada.xlsx?raw=true',sheet_name='Canada by Citizenship',skiprows=range(20),skipfooter=2)"
   ]
  },
  {
   "cell_type": "code",
   "execution_count": 8,
   "metadata": {},
   "outputs": [
    {
     "data": {
      "text/html": [
       "<div>\n",
       "<style scoped>\n",
       "    .dataframe tbody tr th:only-of-type {\n",
       "        vertical-align: middle;\n",
       "    }\n",
       "\n",
       "    .dataframe tbody tr th {\n",
       "        vertical-align: top;\n",
       "    }\n",
       "\n",
       "    .dataframe thead th {\n",
       "        text-align: right;\n",
       "    }\n",
       "</style>\n",
       "<table border=\"1\" class=\"dataframe\">\n",
       "  <thead>\n",
       "    <tr style=\"text-align: right;\">\n",
       "      <th></th>\n",
       "      <th>Type</th>\n",
       "      <th>Coverage</th>\n",
       "      <th>OdName</th>\n",
       "      <th>AREA</th>\n",
       "      <th>AreaName</th>\n",
       "      <th>REG</th>\n",
       "      <th>RegName</th>\n",
       "      <th>DEV</th>\n",
       "      <th>DevName</th>\n",
       "      <th>1980</th>\n",
       "      <th>...</th>\n",
       "      <th>2004</th>\n",
       "      <th>2005</th>\n",
       "      <th>2006</th>\n",
       "      <th>2007</th>\n",
       "      <th>2008</th>\n",
       "      <th>2009</th>\n",
       "      <th>2010</th>\n",
       "      <th>2011</th>\n",
       "      <th>2012</th>\n",
       "      <th>2013</th>\n",
       "    </tr>\n",
       "  </thead>\n",
       "  <tbody>\n",
       "    <tr>\n",
       "      <td>0</td>\n",
       "      <td>Immigrants</td>\n",
       "      <td>Foreigners</td>\n",
       "      <td>Afghanistan</td>\n",
       "      <td>935</td>\n",
       "      <td>Asia</td>\n",
       "      <td>5501</td>\n",
       "      <td>Southern Asia</td>\n",
       "      <td>902</td>\n",
       "      <td>Developing regions</td>\n",
       "      <td>16</td>\n",
       "      <td>...</td>\n",
       "      <td>2978</td>\n",
       "      <td>3436</td>\n",
       "      <td>3009</td>\n",
       "      <td>2652</td>\n",
       "      <td>2111</td>\n",
       "      <td>1746</td>\n",
       "      <td>1758</td>\n",
       "      <td>2203</td>\n",
       "      <td>2635</td>\n",
       "      <td>2004</td>\n",
       "    </tr>\n",
       "    <tr>\n",
       "      <td>1</td>\n",
       "      <td>Immigrants</td>\n",
       "      <td>Foreigners</td>\n",
       "      <td>Albania</td>\n",
       "      <td>908</td>\n",
       "      <td>Europe</td>\n",
       "      <td>925</td>\n",
       "      <td>Southern Europe</td>\n",
       "      <td>901</td>\n",
       "      <td>Developed regions</td>\n",
       "      <td>1</td>\n",
       "      <td>...</td>\n",
       "      <td>1450</td>\n",
       "      <td>1223</td>\n",
       "      <td>856</td>\n",
       "      <td>702</td>\n",
       "      <td>560</td>\n",
       "      <td>716</td>\n",
       "      <td>561</td>\n",
       "      <td>539</td>\n",
       "      <td>620</td>\n",
       "      <td>603</td>\n",
       "    </tr>\n",
       "    <tr>\n",
       "      <td>2</td>\n",
       "      <td>Immigrants</td>\n",
       "      <td>Foreigners</td>\n",
       "      <td>Algeria</td>\n",
       "      <td>903</td>\n",
       "      <td>Africa</td>\n",
       "      <td>912</td>\n",
       "      <td>Northern Africa</td>\n",
       "      <td>902</td>\n",
       "      <td>Developing regions</td>\n",
       "      <td>80</td>\n",
       "      <td>...</td>\n",
       "      <td>3616</td>\n",
       "      <td>3626</td>\n",
       "      <td>4807</td>\n",
       "      <td>3623</td>\n",
       "      <td>4005</td>\n",
       "      <td>5393</td>\n",
       "      <td>4752</td>\n",
       "      <td>4325</td>\n",
       "      <td>3774</td>\n",
       "      <td>4331</td>\n",
       "    </tr>\n",
       "    <tr>\n",
       "      <td>3</td>\n",
       "      <td>Immigrants</td>\n",
       "      <td>Foreigners</td>\n",
       "      <td>American Samoa</td>\n",
       "      <td>909</td>\n",
       "      <td>Oceania</td>\n",
       "      <td>957</td>\n",
       "      <td>Polynesia</td>\n",
       "      <td>902</td>\n",
       "      <td>Developing regions</td>\n",
       "      <td>0</td>\n",
       "      <td>...</td>\n",
       "      <td>0</td>\n",
       "      <td>0</td>\n",
       "      <td>1</td>\n",
       "      <td>0</td>\n",
       "      <td>0</td>\n",
       "      <td>0</td>\n",
       "      <td>0</td>\n",
       "      <td>0</td>\n",
       "      <td>0</td>\n",
       "      <td>0</td>\n",
       "    </tr>\n",
       "    <tr>\n",
       "      <td>4</td>\n",
       "      <td>Immigrants</td>\n",
       "      <td>Foreigners</td>\n",
       "      <td>Andorra</td>\n",
       "      <td>908</td>\n",
       "      <td>Europe</td>\n",
       "      <td>925</td>\n",
       "      <td>Southern Europe</td>\n",
       "      <td>901</td>\n",
       "      <td>Developed regions</td>\n",
       "      <td>0</td>\n",
       "      <td>...</td>\n",
       "      <td>0</td>\n",
       "      <td>0</td>\n",
       "      <td>1</td>\n",
       "      <td>1</td>\n",
       "      <td>0</td>\n",
       "      <td>0</td>\n",
       "      <td>0</td>\n",
       "      <td>0</td>\n",
       "      <td>1</td>\n",
       "      <td>1</td>\n",
       "    </tr>\n",
       "    <tr>\n",
       "      <td>...</td>\n",
       "      <td>...</td>\n",
       "      <td>...</td>\n",
       "      <td>...</td>\n",
       "      <td>...</td>\n",
       "      <td>...</td>\n",
       "      <td>...</td>\n",
       "      <td>...</td>\n",
       "      <td>...</td>\n",
       "      <td>...</td>\n",
       "      <td>...</td>\n",
       "      <td>...</td>\n",
       "      <td>...</td>\n",
       "      <td>...</td>\n",
       "      <td>...</td>\n",
       "      <td>...</td>\n",
       "      <td>...</td>\n",
       "      <td>...</td>\n",
       "      <td>...</td>\n",
       "      <td>...</td>\n",
       "      <td>...</td>\n",
       "      <td>...</td>\n",
       "    </tr>\n",
       "    <tr>\n",
       "      <td>190</td>\n",
       "      <td>Immigrants</td>\n",
       "      <td>Foreigners</td>\n",
       "      <td>Viet Nam</td>\n",
       "      <td>935</td>\n",
       "      <td>Asia</td>\n",
       "      <td>920</td>\n",
       "      <td>South-Eastern Asia</td>\n",
       "      <td>902</td>\n",
       "      <td>Developing regions</td>\n",
       "      <td>1191</td>\n",
       "      <td>...</td>\n",
       "      <td>1816</td>\n",
       "      <td>1852</td>\n",
       "      <td>3153</td>\n",
       "      <td>2574</td>\n",
       "      <td>1784</td>\n",
       "      <td>2171</td>\n",
       "      <td>1942</td>\n",
       "      <td>1723</td>\n",
       "      <td>1731</td>\n",
       "      <td>2112</td>\n",
       "    </tr>\n",
       "    <tr>\n",
       "      <td>191</td>\n",
       "      <td>Immigrants</td>\n",
       "      <td>Foreigners</td>\n",
       "      <td>Western Sahara</td>\n",
       "      <td>903</td>\n",
       "      <td>Africa</td>\n",
       "      <td>912</td>\n",
       "      <td>Northern Africa</td>\n",
       "      <td>902</td>\n",
       "      <td>Developing regions</td>\n",
       "      <td>0</td>\n",
       "      <td>...</td>\n",
       "      <td>0</td>\n",
       "      <td>0</td>\n",
       "      <td>1</td>\n",
       "      <td>0</td>\n",
       "      <td>0</td>\n",
       "      <td>0</td>\n",
       "      <td>0</td>\n",
       "      <td>0</td>\n",
       "      <td>0</td>\n",
       "      <td>0</td>\n",
       "    </tr>\n",
       "    <tr>\n",
       "      <td>192</td>\n",
       "      <td>Immigrants</td>\n",
       "      <td>Foreigners</td>\n",
       "      <td>Yemen</td>\n",
       "      <td>935</td>\n",
       "      <td>Asia</td>\n",
       "      <td>922</td>\n",
       "      <td>Western Asia</td>\n",
       "      <td>902</td>\n",
       "      <td>Developing regions</td>\n",
       "      <td>1</td>\n",
       "      <td>...</td>\n",
       "      <td>124</td>\n",
       "      <td>161</td>\n",
       "      <td>140</td>\n",
       "      <td>122</td>\n",
       "      <td>133</td>\n",
       "      <td>128</td>\n",
       "      <td>211</td>\n",
       "      <td>160</td>\n",
       "      <td>174</td>\n",
       "      <td>217</td>\n",
       "    </tr>\n",
       "    <tr>\n",
       "      <td>193</td>\n",
       "      <td>Immigrants</td>\n",
       "      <td>Foreigners</td>\n",
       "      <td>Zambia</td>\n",
       "      <td>903</td>\n",
       "      <td>Africa</td>\n",
       "      <td>910</td>\n",
       "      <td>Eastern Africa</td>\n",
       "      <td>902</td>\n",
       "      <td>Developing regions</td>\n",
       "      <td>11</td>\n",
       "      <td>...</td>\n",
       "      <td>56</td>\n",
       "      <td>91</td>\n",
       "      <td>77</td>\n",
       "      <td>71</td>\n",
       "      <td>64</td>\n",
       "      <td>60</td>\n",
       "      <td>102</td>\n",
       "      <td>69</td>\n",
       "      <td>46</td>\n",
       "      <td>59</td>\n",
       "    </tr>\n",
       "    <tr>\n",
       "      <td>194</td>\n",
       "      <td>Immigrants</td>\n",
       "      <td>Foreigners</td>\n",
       "      <td>Zimbabwe</td>\n",
       "      <td>903</td>\n",
       "      <td>Africa</td>\n",
       "      <td>910</td>\n",
       "      <td>Eastern Africa</td>\n",
       "      <td>902</td>\n",
       "      <td>Developing regions</td>\n",
       "      <td>72</td>\n",
       "      <td>...</td>\n",
       "      <td>1450</td>\n",
       "      <td>615</td>\n",
       "      <td>454</td>\n",
       "      <td>663</td>\n",
       "      <td>611</td>\n",
       "      <td>508</td>\n",
       "      <td>494</td>\n",
       "      <td>434</td>\n",
       "      <td>437</td>\n",
       "      <td>407</td>\n",
       "    </tr>\n",
       "  </tbody>\n",
       "</table>\n",
       "<p>195 rows × 43 columns</p>\n",
       "</div>"
      ],
      "text/plain": [
       "           Type    Coverage          OdName  AREA AreaName   REG  \\\n",
       "0    Immigrants  Foreigners     Afghanistan   935     Asia  5501   \n",
       "1    Immigrants  Foreigners         Albania   908   Europe   925   \n",
       "2    Immigrants  Foreigners         Algeria   903   Africa   912   \n",
       "3    Immigrants  Foreigners  American Samoa   909  Oceania   957   \n",
       "4    Immigrants  Foreigners         Andorra   908   Europe   925   \n",
       "..          ...         ...             ...   ...      ...   ...   \n",
       "190  Immigrants  Foreigners        Viet Nam   935     Asia   920   \n",
       "191  Immigrants  Foreigners  Western Sahara   903   Africa   912   \n",
       "192  Immigrants  Foreigners           Yemen   935     Asia   922   \n",
       "193  Immigrants  Foreigners          Zambia   903   Africa   910   \n",
       "194  Immigrants  Foreigners        Zimbabwe   903   Africa   910   \n",
       "\n",
       "                RegName  DEV             DevName  1980  ...  2004  2005  2006  \\\n",
       "0         Southern Asia  902  Developing regions    16  ...  2978  3436  3009   \n",
       "1       Southern Europe  901   Developed regions     1  ...  1450  1223   856   \n",
       "2       Northern Africa  902  Developing regions    80  ...  3616  3626  4807   \n",
       "3             Polynesia  902  Developing regions     0  ...     0     0     1   \n",
       "4       Southern Europe  901   Developed regions     0  ...     0     0     1   \n",
       "..                  ...  ...                 ...   ...  ...   ...   ...   ...   \n",
       "190  South-Eastern Asia  902  Developing regions  1191  ...  1816  1852  3153   \n",
       "191     Northern Africa  902  Developing regions     0  ...     0     0     1   \n",
       "192        Western Asia  902  Developing regions     1  ...   124   161   140   \n",
       "193      Eastern Africa  902  Developing regions    11  ...    56    91    77   \n",
       "194      Eastern Africa  902  Developing regions    72  ...  1450   615   454   \n",
       "\n",
       "     2007  2008  2009  2010  2011  2012  2013  \n",
       "0    2652  2111  1746  1758  2203  2635  2004  \n",
       "1     702   560   716   561   539   620   603  \n",
       "2    3623  4005  5393  4752  4325  3774  4331  \n",
       "3       0     0     0     0     0     0     0  \n",
       "4       1     0     0     0     0     1     1  \n",
       "..    ...   ...   ...   ...   ...   ...   ...  \n",
       "190  2574  1784  2171  1942  1723  1731  2112  \n",
       "191     0     0     0     0     0     0     0  \n",
       "192   122   133   128   211   160   174   217  \n",
       "193    71    64    60   102    69    46    59  \n",
       "194   663   611   508   494   434   437   407  \n",
       "\n",
       "[195 rows x 43 columns]"
      ]
     },
     "execution_count": 8,
     "metadata": {},
     "output_type": "execute_result"
    }
   ],
   "source": [
    "data_canada_df"
   ]
  },
  {
   "cell_type": "code",
   "execution_count": null,
   "metadata": {},
   "outputs": [],
   "source": [
    "data_canada_df.nunique()"
   ]
  },
  {
   "cell_type": "code",
   "execution_count": null,
   "metadata": {},
   "outputs": [],
   "source": [
    "data_canada_df['Coverage'].values"
   ]
  },
  {
   "cell_type": "code",
   "execution_count": null,
   "metadata": {},
   "outputs": [],
   "source": [
    "data_canada_df['Coverage']"
   ]
  },
  {
   "cell_type": "code",
   "execution_count": null,
   "metadata": {},
   "outputs": [],
   "source": [
    "data_canada_df[['Coverage']]"
   ]
  },
  {
   "cell_type": "code",
   "execution_count": null,
   "metadata": {
    "scrolled": true
   },
   "outputs": [],
   "source": [
    "data_canada_df['Coverage'].values.T"
   ]
  },
  {
   "cell_type": "code",
   "execution_count": null,
   "metadata": {},
   "outputs": [],
   "source": [
    "a = [1,2,3]\n",
    "for x in a:\n",
    "    x = str(x)\n",
    "    print(x,type(x))"
   ]
  },
  {
   "cell_type": "code",
   "execution_count": null,
   "metadata": {},
   "outputs": [],
   "source": [
    "[str(x) for x in a]"
   ]
  },
  {
   "cell_type": "code",
   "execution_count": null,
   "metadata": {},
   "outputs": [],
   "source": [
    "list(map(str,a))"
   ]
  },
  {
   "cell_type": "markdown",
   "metadata": {},
   "source": [
    "case: \n",
    "0. buat data NaN delete rows nya\n",
    "1. pada detik keberapa humidity paling tinggi?\n",
    "2. pada detik keberapa temperatur paling tinggi?\n",
    "3. pressure di tiap ketinggian itu bagaimana? (max,min,median,mean)"
   ]
  },
  {
   "cell_type": "code",
   "execution_count": 4,
   "metadata": {},
   "outputs": [
    {
     "data": {
      "text/html": [
       "<div>\n",
       "<style scoped>\n",
       "    .dataframe tbody tr th:only-of-type {\n",
       "        vertical-align: middle;\n",
       "    }\n",
       "\n",
       "    .dataframe tbody tr th {\n",
       "        vertical-align: top;\n",
       "    }\n",
       "\n",
       "    .dataframe thead th {\n",
       "        text-align: right;\n",
       "    }\n",
       "</style>\n",
       "<table border=\"1\" class=\"dataframe\">\n",
       "  <thead>\n",
       "    <tr style=\"text-align: right;\">\n",
       "      <th></th>\n",
       "      <th>Type</th>\n",
       "      <th>Coverage</th>\n",
       "      <th>OdName</th>\n",
       "      <th>AREA</th>\n",
       "      <th>AreaName</th>\n",
       "      <th>REG</th>\n",
       "      <th>RegName</th>\n",
       "      <th>DEV</th>\n",
       "      <th>DevName</th>\n",
       "      <th>1980</th>\n",
       "      <th>...</th>\n",
       "      <th>2004</th>\n",
       "      <th>2005</th>\n",
       "      <th>2006</th>\n",
       "      <th>2007</th>\n",
       "      <th>2008</th>\n",
       "      <th>2009</th>\n",
       "      <th>2010</th>\n",
       "      <th>2011</th>\n",
       "      <th>2012</th>\n",
       "      <th>2013</th>\n",
       "    </tr>\n",
       "  </thead>\n",
       "  <tbody>\n",
       "    <tr>\n",
       "      <td>0</td>\n",
       "      <td>Immigrants</td>\n",
       "      <td>Foreigners</td>\n",
       "      <td>Afghanistan</td>\n",
       "      <td>935</td>\n",
       "      <td>Asia</td>\n",
       "      <td>5501</td>\n",
       "      <td>Southern Asia</td>\n",
       "      <td>902</td>\n",
       "      <td>Developing regions</td>\n",
       "      <td>16</td>\n",
       "      <td>...</td>\n",
       "      <td>2978</td>\n",
       "      <td>3436</td>\n",
       "      <td>3009</td>\n",
       "      <td>2652</td>\n",
       "      <td>2111</td>\n",
       "      <td>1746</td>\n",
       "      <td>1758</td>\n",
       "      <td>2203</td>\n",
       "      <td>2635</td>\n",
       "      <td>2004</td>\n",
       "    </tr>\n",
       "    <tr>\n",
       "      <td>1</td>\n",
       "      <td>Immigrants</td>\n",
       "      <td>Foreigners</td>\n",
       "      <td>Albania</td>\n",
       "      <td>908</td>\n",
       "      <td>Europe</td>\n",
       "      <td>925</td>\n",
       "      <td>Southern Europe</td>\n",
       "      <td>901</td>\n",
       "      <td>Developed regions</td>\n",
       "      <td>1</td>\n",
       "      <td>...</td>\n",
       "      <td>1450</td>\n",
       "      <td>1223</td>\n",
       "      <td>856</td>\n",
       "      <td>702</td>\n",
       "      <td>560</td>\n",
       "      <td>716</td>\n",
       "      <td>561</td>\n",
       "      <td>539</td>\n",
       "      <td>620</td>\n",
       "      <td>603</td>\n",
       "    </tr>\n",
       "    <tr>\n",
       "      <td>2</td>\n",
       "      <td>Immigrants</td>\n",
       "      <td>Foreigners</td>\n",
       "      <td>Algeria</td>\n",
       "      <td>903</td>\n",
       "      <td>Africa</td>\n",
       "      <td>912</td>\n",
       "      <td>Northern Africa</td>\n",
       "      <td>902</td>\n",
       "      <td>Developing regions</td>\n",
       "      <td>80</td>\n",
       "      <td>...</td>\n",
       "      <td>3616</td>\n",
       "      <td>3626</td>\n",
       "      <td>4807</td>\n",
       "      <td>3623</td>\n",
       "      <td>4005</td>\n",
       "      <td>5393</td>\n",
       "      <td>4752</td>\n",
       "      <td>4325</td>\n",
       "      <td>3774</td>\n",
       "      <td>4331</td>\n",
       "    </tr>\n",
       "    <tr>\n",
       "      <td>3</td>\n",
       "      <td>Immigrants</td>\n",
       "      <td>Foreigners</td>\n",
       "      <td>American Samoa</td>\n",
       "      <td>909</td>\n",
       "      <td>Oceania</td>\n",
       "      <td>957</td>\n",
       "      <td>Polynesia</td>\n",
       "      <td>902</td>\n",
       "      <td>Developing regions</td>\n",
       "      <td>0</td>\n",
       "      <td>...</td>\n",
       "      <td>0</td>\n",
       "      <td>0</td>\n",
       "      <td>1</td>\n",
       "      <td>0</td>\n",
       "      <td>0</td>\n",
       "      <td>0</td>\n",
       "      <td>0</td>\n",
       "      <td>0</td>\n",
       "      <td>0</td>\n",
       "      <td>0</td>\n",
       "    </tr>\n",
       "    <tr>\n",
       "      <td>4</td>\n",
       "      <td>Immigrants</td>\n",
       "      <td>Foreigners</td>\n",
       "      <td>Andorra</td>\n",
       "      <td>908</td>\n",
       "      <td>Europe</td>\n",
       "      <td>925</td>\n",
       "      <td>Southern Europe</td>\n",
       "      <td>901</td>\n",
       "      <td>Developed regions</td>\n",
       "      <td>0</td>\n",
       "      <td>...</td>\n",
       "      <td>0</td>\n",
       "      <td>0</td>\n",
       "      <td>1</td>\n",
       "      <td>1</td>\n",
       "      <td>0</td>\n",
       "      <td>0</td>\n",
       "      <td>0</td>\n",
       "      <td>0</td>\n",
       "      <td>1</td>\n",
       "      <td>1</td>\n",
       "    </tr>\n",
       "    <tr>\n",
       "      <td>...</td>\n",
       "      <td>...</td>\n",
       "      <td>...</td>\n",
       "      <td>...</td>\n",
       "      <td>...</td>\n",
       "      <td>...</td>\n",
       "      <td>...</td>\n",
       "      <td>...</td>\n",
       "      <td>...</td>\n",
       "      <td>...</td>\n",
       "      <td>...</td>\n",
       "      <td>...</td>\n",
       "      <td>...</td>\n",
       "      <td>...</td>\n",
       "      <td>...</td>\n",
       "      <td>...</td>\n",
       "      <td>...</td>\n",
       "      <td>...</td>\n",
       "      <td>...</td>\n",
       "      <td>...</td>\n",
       "      <td>...</td>\n",
       "      <td>...</td>\n",
       "    </tr>\n",
       "    <tr>\n",
       "      <td>190</td>\n",
       "      <td>Immigrants</td>\n",
       "      <td>Foreigners</td>\n",
       "      <td>Viet Nam</td>\n",
       "      <td>935</td>\n",
       "      <td>Asia</td>\n",
       "      <td>920</td>\n",
       "      <td>South-Eastern Asia</td>\n",
       "      <td>902</td>\n",
       "      <td>Developing regions</td>\n",
       "      <td>1191</td>\n",
       "      <td>...</td>\n",
       "      <td>1816</td>\n",
       "      <td>1852</td>\n",
       "      <td>3153</td>\n",
       "      <td>2574</td>\n",
       "      <td>1784</td>\n",
       "      <td>2171</td>\n",
       "      <td>1942</td>\n",
       "      <td>1723</td>\n",
       "      <td>1731</td>\n",
       "      <td>2112</td>\n",
       "    </tr>\n",
       "    <tr>\n",
       "      <td>191</td>\n",
       "      <td>Immigrants</td>\n",
       "      <td>Foreigners</td>\n",
       "      <td>Western Sahara</td>\n",
       "      <td>903</td>\n",
       "      <td>Africa</td>\n",
       "      <td>912</td>\n",
       "      <td>Northern Africa</td>\n",
       "      <td>902</td>\n",
       "      <td>Developing regions</td>\n",
       "      <td>0</td>\n",
       "      <td>...</td>\n",
       "      <td>0</td>\n",
       "      <td>0</td>\n",
       "      <td>1</td>\n",
       "      <td>0</td>\n",
       "      <td>0</td>\n",
       "      <td>0</td>\n",
       "      <td>0</td>\n",
       "      <td>0</td>\n",
       "      <td>0</td>\n",
       "      <td>0</td>\n",
       "    </tr>\n",
       "    <tr>\n",
       "      <td>192</td>\n",
       "      <td>Immigrants</td>\n",
       "      <td>Foreigners</td>\n",
       "      <td>Yemen</td>\n",
       "      <td>935</td>\n",
       "      <td>Asia</td>\n",
       "      <td>922</td>\n",
       "      <td>Western Asia</td>\n",
       "      <td>902</td>\n",
       "      <td>Developing regions</td>\n",
       "      <td>1</td>\n",
       "      <td>...</td>\n",
       "      <td>124</td>\n",
       "      <td>161</td>\n",
       "      <td>140</td>\n",
       "      <td>122</td>\n",
       "      <td>133</td>\n",
       "      <td>128</td>\n",
       "      <td>211</td>\n",
       "      <td>160</td>\n",
       "      <td>174</td>\n",
       "      <td>217</td>\n",
       "    </tr>\n",
       "    <tr>\n",
       "      <td>193</td>\n",
       "      <td>Immigrants</td>\n",
       "      <td>Foreigners</td>\n",
       "      <td>Zambia</td>\n",
       "      <td>903</td>\n",
       "      <td>Africa</td>\n",
       "      <td>910</td>\n",
       "      <td>Eastern Africa</td>\n",
       "      <td>902</td>\n",
       "      <td>Developing regions</td>\n",
       "      <td>11</td>\n",
       "      <td>...</td>\n",
       "      <td>56</td>\n",
       "      <td>91</td>\n",
       "      <td>77</td>\n",
       "      <td>71</td>\n",
       "      <td>64</td>\n",
       "      <td>60</td>\n",
       "      <td>102</td>\n",
       "      <td>69</td>\n",
       "      <td>46</td>\n",
       "      <td>59</td>\n",
       "    </tr>\n",
       "    <tr>\n",
       "      <td>194</td>\n",
       "      <td>Immigrants</td>\n",
       "      <td>Foreigners</td>\n",
       "      <td>Zimbabwe</td>\n",
       "      <td>903</td>\n",
       "      <td>Africa</td>\n",
       "      <td>910</td>\n",
       "      <td>Eastern Africa</td>\n",
       "      <td>902</td>\n",
       "      <td>Developing regions</td>\n",
       "      <td>72</td>\n",
       "      <td>...</td>\n",
       "      <td>1450</td>\n",
       "      <td>615</td>\n",
       "      <td>454</td>\n",
       "      <td>663</td>\n",
       "      <td>611</td>\n",
       "      <td>508</td>\n",
       "      <td>494</td>\n",
       "      <td>434</td>\n",
       "      <td>437</td>\n",
       "      <td>407</td>\n",
       "    </tr>\n",
       "  </tbody>\n",
       "</table>\n",
       "<p>195 rows × 43 columns</p>\n",
       "</div>"
      ],
      "text/plain": [
       "           Type    Coverage          OdName  AREA AreaName   REG  \\\n",
       "0    Immigrants  Foreigners     Afghanistan   935     Asia  5501   \n",
       "1    Immigrants  Foreigners         Albania   908   Europe   925   \n",
       "2    Immigrants  Foreigners         Algeria   903   Africa   912   \n",
       "3    Immigrants  Foreigners  American Samoa   909  Oceania   957   \n",
       "4    Immigrants  Foreigners         Andorra   908   Europe   925   \n",
       "..          ...         ...             ...   ...      ...   ...   \n",
       "190  Immigrants  Foreigners        Viet Nam   935     Asia   920   \n",
       "191  Immigrants  Foreigners  Western Sahara   903   Africa   912   \n",
       "192  Immigrants  Foreigners           Yemen   935     Asia   922   \n",
       "193  Immigrants  Foreigners          Zambia   903   Africa   910   \n",
       "194  Immigrants  Foreigners        Zimbabwe   903   Africa   910   \n",
       "\n",
       "                RegName  DEV             DevName  1980  ...  2004  2005  2006  \\\n",
       "0         Southern Asia  902  Developing regions    16  ...  2978  3436  3009   \n",
       "1       Southern Europe  901   Developed regions     1  ...  1450  1223   856   \n",
       "2       Northern Africa  902  Developing regions    80  ...  3616  3626  4807   \n",
       "3             Polynesia  902  Developing regions     0  ...     0     0     1   \n",
       "4       Southern Europe  901   Developed regions     0  ...     0     0     1   \n",
       "..                  ...  ...                 ...   ...  ...   ...   ...   ...   \n",
       "190  South-Eastern Asia  902  Developing regions  1191  ...  1816  1852  3153   \n",
       "191     Northern Africa  902  Developing regions     0  ...     0     0     1   \n",
       "192        Western Asia  902  Developing regions     1  ...   124   161   140   \n",
       "193      Eastern Africa  902  Developing regions    11  ...    56    91    77   \n",
       "194      Eastern Africa  902  Developing regions    72  ...  1450   615   454   \n",
       "\n",
       "     2007  2008  2009  2010  2011  2012  2013  \n",
       "0    2652  2111  1746  1758  2203  2635  2004  \n",
       "1     702   560   716   561   539   620   603  \n",
       "2    3623  4005  5393  4752  4325  3774  4331  \n",
       "3       0     0     0     0     0     0     0  \n",
       "4       1     0     0     0     0     1     1  \n",
       "..    ...   ...   ...   ...   ...   ...   ...  \n",
       "190  2574  1784  2171  1942  1723  1731  2112  \n",
       "191     0     0     0     0     0     0     0  \n",
       "192   122   133   128   211   160   174   217  \n",
       "193    71    64    60   102    69    46    59  \n",
       "194   663   611   508   494   434   437   407  \n",
       "\n",
       "[195 rows x 43 columns]"
      ]
     },
     "execution_count": 4,
     "metadata": {},
     "output_type": "execute_result"
    }
   ],
   "source": [
    "data_canada_df"
   ]
  },
  {
   "cell_type": "code",
   "execution_count": 2,
   "metadata": {},
   "outputs": [],
   "source": [
    "import matplotlib.pyplot as plt\n",
    "import matplotlib as mpl\n",
    "%matplotlib inline\n",
    "mpl.style.use(['ggplot'])"
   ]
  },
  {
   "cell_type": "code",
   "execution_count": 8,
   "metadata": {},
   "outputs": [
    {
     "data": {
      "text/html": [
       "<div>\n",
       "<style scoped>\n",
       "    .dataframe tbody tr th:only-of-type {\n",
       "        vertical-align: middle;\n",
       "    }\n",
       "\n",
       "    .dataframe tbody tr th {\n",
       "        vertical-align: top;\n",
       "    }\n",
       "\n",
       "    .dataframe thead th {\n",
       "        text-align: right;\n",
       "    }\n",
       "</style>\n",
       "<table border=\"1\" class=\"dataframe\">\n",
       "  <thead>\n",
       "    <tr style=\"text-align: right;\">\n",
       "      <th></th>\n",
       "      <th>Type</th>\n",
       "      <th>Coverage</th>\n",
       "      <th>AREA</th>\n",
       "      <th>AreaName</th>\n",
       "      <th>REG</th>\n",
       "      <th>RegName</th>\n",
       "      <th>DEV</th>\n",
       "      <th>DevName</th>\n",
       "      <th>1980</th>\n",
       "      <th>1981</th>\n",
       "      <th>...</th>\n",
       "      <th>2004</th>\n",
       "      <th>2005</th>\n",
       "      <th>2006</th>\n",
       "      <th>2007</th>\n",
       "      <th>2008</th>\n",
       "      <th>2009</th>\n",
       "      <th>2010</th>\n",
       "      <th>2011</th>\n",
       "      <th>2012</th>\n",
       "      <th>2013</th>\n",
       "    </tr>\n",
       "    <tr>\n",
       "      <th>OdName</th>\n",
       "      <th></th>\n",
       "      <th></th>\n",
       "      <th></th>\n",
       "      <th></th>\n",
       "      <th></th>\n",
       "      <th></th>\n",
       "      <th></th>\n",
       "      <th></th>\n",
       "      <th></th>\n",
       "      <th></th>\n",
       "      <th></th>\n",
       "      <th></th>\n",
       "      <th></th>\n",
       "      <th></th>\n",
       "      <th></th>\n",
       "      <th></th>\n",
       "      <th></th>\n",
       "      <th></th>\n",
       "      <th></th>\n",
       "      <th></th>\n",
       "      <th></th>\n",
       "    </tr>\n",
       "  </thead>\n",
       "  <tbody>\n",
       "    <tr>\n",
       "      <td>Afghanistan</td>\n",
       "      <td>Immigrants</td>\n",
       "      <td>Foreigners</td>\n",
       "      <td>935</td>\n",
       "      <td>Asia</td>\n",
       "      <td>5501</td>\n",
       "      <td>Southern Asia</td>\n",
       "      <td>902</td>\n",
       "      <td>Developing regions</td>\n",
       "      <td>16</td>\n",
       "      <td>39</td>\n",
       "      <td>...</td>\n",
       "      <td>2978</td>\n",
       "      <td>3436</td>\n",
       "      <td>3009</td>\n",
       "      <td>2652</td>\n",
       "      <td>2111</td>\n",
       "      <td>1746</td>\n",
       "      <td>1758</td>\n",
       "      <td>2203</td>\n",
       "      <td>2635</td>\n",
       "      <td>2004</td>\n",
       "    </tr>\n",
       "    <tr>\n",
       "      <td>Albania</td>\n",
       "      <td>Immigrants</td>\n",
       "      <td>Foreigners</td>\n",
       "      <td>908</td>\n",
       "      <td>Europe</td>\n",
       "      <td>925</td>\n",
       "      <td>Southern Europe</td>\n",
       "      <td>901</td>\n",
       "      <td>Developed regions</td>\n",
       "      <td>1</td>\n",
       "      <td>0</td>\n",
       "      <td>...</td>\n",
       "      <td>1450</td>\n",
       "      <td>1223</td>\n",
       "      <td>856</td>\n",
       "      <td>702</td>\n",
       "      <td>560</td>\n",
       "      <td>716</td>\n",
       "      <td>561</td>\n",
       "      <td>539</td>\n",
       "      <td>620</td>\n",
       "      <td>603</td>\n",
       "    </tr>\n",
       "    <tr>\n",
       "      <td>Algeria</td>\n",
       "      <td>Immigrants</td>\n",
       "      <td>Foreigners</td>\n",
       "      <td>903</td>\n",
       "      <td>Africa</td>\n",
       "      <td>912</td>\n",
       "      <td>Northern Africa</td>\n",
       "      <td>902</td>\n",
       "      <td>Developing regions</td>\n",
       "      <td>80</td>\n",
       "      <td>67</td>\n",
       "      <td>...</td>\n",
       "      <td>3616</td>\n",
       "      <td>3626</td>\n",
       "      <td>4807</td>\n",
       "      <td>3623</td>\n",
       "      <td>4005</td>\n",
       "      <td>5393</td>\n",
       "      <td>4752</td>\n",
       "      <td>4325</td>\n",
       "      <td>3774</td>\n",
       "      <td>4331</td>\n",
       "    </tr>\n",
       "    <tr>\n",
       "      <td>American Samoa</td>\n",
       "      <td>Immigrants</td>\n",
       "      <td>Foreigners</td>\n",
       "      <td>909</td>\n",
       "      <td>Oceania</td>\n",
       "      <td>957</td>\n",
       "      <td>Polynesia</td>\n",
       "      <td>902</td>\n",
       "      <td>Developing regions</td>\n",
       "      <td>0</td>\n",
       "      <td>1</td>\n",
       "      <td>...</td>\n",
       "      <td>0</td>\n",
       "      <td>0</td>\n",
       "      <td>1</td>\n",
       "      <td>0</td>\n",
       "      <td>0</td>\n",
       "      <td>0</td>\n",
       "      <td>0</td>\n",
       "      <td>0</td>\n",
       "      <td>0</td>\n",
       "      <td>0</td>\n",
       "    </tr>\n",
       "    <tr>\n",
       "      <td>Andorra</td>\n",
       "      <td>Immigrants</td>\n",
       "      <td>Foreigners</td>\n",
       "      <td>908</td>\n",
       "      <td>Europe</td>\n",
       "      <td>925</td>\n",
       "      <td>Southern Europe</td>\n",
       "      <td>901</td>\n",
       "      <td>Developed regions</td>\n",
       "      <td>0</td>\n",
       "      <td>0</td>\n",
       "      <td>...</td>\n",
       "      <td>0</td>\n",
       "      <td>0</td>\n",
       "      <td>1</td>\n",
       "      <td>1</td>\n",
       "      <td>0</td>\n",
       "      <td>0</td>\n",
       "      <td>0</td>\n",
       "      <td>0</td>\n",
       "      <td>1</td>\n",
       "      <td>1</td>\n",
       "    </tr>\n",
       "    <tr>\n",
       "      <td>...</td>\n",
       "      <td>...</td>\n",
       "      <td>...</td>\n",
       "      <td>...</td>\n",
       "      <td>...</td>\n",
       "      <td>...</td>\n",
       "      <td>...</td>\n",
       "      <td>...</td>\n",
       "      <td>...</td>\n",
       "      <td>...</td>\n",
       "      <td>...</td>\n",
       "      <td>...</td>\n",
       "      <td>...</td>\n",
       "      <td>...</td>\n",
       "      <td>...</td>\n",
       "      <td>...</td>\n",
       "      <td>...</td>\n",
       "      <td>...</td>\n",
       "      <td>...</td>\n",
       "      <td>...</td>\n",
       "      <td>...</td>\n",
       "      <td>...</td>\n",
       "    </tr>\n",
       "    <tr>\n",
       "      <td>Viet Nam</td>\n",
       "      <td>Immigrants</td>\n",
       "      <td>Foreigners</td>\n",
       "      <td>935</td>\n",
       "      <td>Asia</td>\n",
       "      <td>920</td>\n",
       "      <td>South-Eastern Asia</td>\n",
       "      <td>902</td>\n",
       "      <td>Developing regions</td>\n",
       "      <td>1191</td>\n",
       "      <td>1829</td>\n",
       "      <td>...</td>\n",
       "      <td>1816</td>\n",
       "      <td>1852</td>\n",
       "      <td>3153</td>\n",
       "      <td>2574</td>\n",
       "      <td>1784</td>\n",
       "      <td>2171</td>\n",
       "      <td>1942</td>\n",
       "      <td>1723</td>\n",
       "      <td>1731</td>\n",
       "      <td>2112</td>\n",
       "    </tr>\n",
       "    <tr>\n",
       "      <td>Western Sahara</td>\n",
       "      <td>Immigrants</td>\n",
       "      <td>Foreigners</td>\n",
       "      <td>903</td>\n",
       "      <td>Africa</td>\n",
       "      <td>912</td>\n",
       "      <td>Northern Africa</td>\n",
       "      <td>902</td>\n",
       "      <td>Developing regions</td>\n",
       "      <td>0</td>\n",
       "      <td>0</td>\n",
       "      <td>...</td>\n",
       "      <td>0</td>\n",
       "      <td>0</td>\n",
       "      <td>1</td>\n",
       "      <td>0</td>\n",
       "      <td>0</td>\n",
       "      <td>0</td>\n",
       "      <td>0</td>\n",
       "      <td>0</td>\n",
       "      <td>0</td>\n",
       "      <td>0</td>\n",
       "    </tr>\n",
       "    <tr>\n",
       "      <td>Yemen</td>\n",
       "      <td>Immigrants</td>\n",
       "      <td>Foreigners</td>\n",
       "      <td>935</td>\n",
       "      <td>Asia</td>\n",
       "      <td>922</td>\n",
       "      <td>Western Asia</td>\n",
       "      <td>902</td>\n",
       "      <td>Developing regions</td>\n",
       "      <td>1</td>\n",
       "      <td>2</td>\n",
       "      <td>...</td>\n",
       "      <td>124</td>\n",
       "      <td>161</td>\n",
       "      <td>140</td>\n",
       "      <td>122</td>\n",
       "      <td>133</td>\n",
       "      <td>128</td>\n",
       "      <td>211</td>\n",
       "      <td>160</td>\n",
       "      <td>174</td>\n",
       "      <td>217</td>\n",
       "    </tr>\n",
       "    <tr>\n",
       "      <td>Zambia</td>\n",
       "      <td>Immigrants</td>\n",
       "      <td>Foreigners</td>\n",
       "      <td>903</td>\n",
       "      <td>Africa</td>\n",
       "      <td>910</td>\n",
       "      <td>Eastern Africa</td>\n",
       "      <td>902</td>\n",
       "      <td>Developing regions</td>\n",
       "      <td>11</td>\n",
       "      <td>17</td>\n",
       "      <td>...</td>\n",
       "      <td>56</td>\n",
       "      <td>91</td>\n",
       "      <td>77</td>\n",
       "      <td>71</td>\n",
       "      <td>64</td>\n",
       "      <td>60</td>\n",
       "      <td>102</td>\n",
       "      <td>69</td>\n",
       "      <td>46</td>\n",
       "      <td>59</td>\n",
       "    </tr>\n",
       "    <tr>\n",
       "      <td>Zimbabwe</td>\n",
       "      <td>Immigrants</td>\n",
       "      <td>Foreigners</td>\n",
       "      <td>903</td>\n",
       "      <td>Africa</td>\n",
       "      <td>910</td>\n",
       "      <td>Eastern Africa</td>\n",
       "      <td>902</td>\n",
       "      <td>Developing regions</td>\n",
       "      <td>72</td>\n",
       "      <td>114</td>\n",
       "      <td>...</td>\n",
       "      <td>1450</td>\n",
       "      <td>615</td>\n",
       "      <td>454</td>\n",
       "      <td>663</td>\n",
       "      <td>611</td>\n",
       "      <td>508</td>\n",
       "      <td>494</td>\n",
       "      <td>434</td>\n",
       "      <td>437</td>\n",
       "      <td>407</td>\n",
       "    </tr>\n",
       "  </tbody>\n",
       "</table>\n",
       "<p>195 rows × 42 columns</p>\n",
       "</div>"
      ],
      "text/plain": [
       "                      Type    Coverage  AREA AreaName   REG  \\\n",
       "OdName                                                        \n",
       "Afghanistan     Immigrants  Foreigners   935     Asia  5501   \n",
       "Albania         Immigrants  Foreigners   908   Europe   925   \n",
       "Algeria         Immigrants  Foreigners   903   Africa   912   \n",
       "American Samoa  Immigrants  Foreigners   909  Oceania   957   \n",
       "Andorra         Immigrants  Foreigners   908   Europe   925   \n",
       "...                    ...         ...   ...      ...   ...   \n",
       "Viet Nam        Immigrants  Foreigners   935     Asia   920   \n",
       "Western Sahara  Immigrants  Foreigners   903   Africa   912   \n",
       "Yemen           Immigrants  Foreigners   935     Asia   922   \n",
       "Zambia          Immigrants  Foreigners   903   Africa   910   \n",
       "Zimbabwe        Immigrants  Foreigners   903   Africa   910   \n",
       "\n",
       "                           RegName  DEV             DevName  1980  1981  ...  \\\n",
       "OdName                                                                   ...   \n",
       "Afghanistan          Southern Asia  902  Developing regions    16    39  ...   \n",
       "Albania            Southern Europe  901   Developed regions     1     0  ...   \n",
       "Algeria            Northern Africa  902  Developing regions    80    67  ...   \n",
       "American Samoa           Polynesia  902  Developing regions     0     1  ...   \n",
       "Andorra            Southern Europe  901   Developed regions     0     0  ...   \n",
       "...                            ...  ...                 ...   ...   ...  ...   \n",
       "Viet Nam        South-Eastern Asia  902  Developing regions  1191  1829  ...   \n",
       "Western Sahara     Northern Africa  902  Developing regions     0     0  ...   \n",
       "Yemen                 Western Asia  902  Developing regions     1     2  ...   \n",
       "Zambia              Eastern Africa  902  Developing regions    11    17  ...   \n",
       "Zimbabwe            Eastern Africa  902  Developing regions    72   114  ...   \n",
       "\n",
       "                2004  2005  2006  2007  2008  2009  2010  2011  2012  2013  \n",
       "OdName                                                                      \n",
       "Afghanistan     2978  3436  3009  2652  2111  1746  1758  2203  2635  2004  \n",
       "Albania         1450  1223   856   702   560   716   561   539   620   603  \n",
       "Algeria         3616  3626  4807  3623  4005  5393  4752  4325  3774  4331  \n",
       "American Samoa     0     0     1     0     0     0     0     0     0     0  \n",
       "Andorra            0     0     1     1     0     0     0     0     1     1  \n",
       "...              ...   ...   ...   ...   ...   ...   ...   ...   ...   ...  \n",
       "Viet Nam        1816  1852  3153  2574  1784  2171  1942  1723  1731  2112  \n",
       "Western Sahara     0     0     1     0     0     0     0     0     0     0  \n",
       "Yemen            124   161   140   122   133   128   211   160   174   217  \n",
       "Zambia            56    91    77    71    64    60   102    69    46    59  \n",
       "Zimbabwe        1450   615   454   663   611   508   494   434   437   407  \n",
       "\n",
       "[195 rows x 42 columns]"
      ]
     },
     "execution_count": 8,
     "metadata": {},
     "output_type": "execute_result"
    }
   ],
   "source": [
    "data_canada_df2 = data_canada_df.copy()\n",
    "data_canada_df2 = data_canada_df2.set_index('OdName')\n",
    "data_canada_df2"
   ]
  },
  {
   "cell_type": "code",
   "execution_count": null,
   "metadata": {},
   "outputs": [],
   "source": [
    "line_chart0 = data_canada_df[data_canada_df['OdName']=='Afghanistan'][[1980,1981,1982,1983,2012]]\n",
    "line_chart0.plot(kind='line')\n",
    "plt.title('Immigration from Afganisthan')\n",
    "plt.ylabel('Number of Immigrants')\n",
    "plt.show()"
   ]
  },
  {
   "cell_type": "code",
   "execution_count": null,
   "metadata": {},
   "outputs": [],
   "source": [
    "data_canada_df[data_canada_df['OdName'].isin(['Afghanistan','Albania'])][years].transpose().plot(kind)"
   ]
  },
  {
   "cell_type": "code",
   "execution_count": 9,
   "metadata": {},
   "outputs": [
    {
     "data": {
      "text/html": [
       "<div>\n",
       "<style scoped>\n",
       "    .dataframe tbody tr th:only-of-type {\n",
       "        vertical-align: middle;\n",
       "    }\n",
       "\n",
       "    .dataframe tbody tr th {\n",
       "        vertical-align: top;\n",
       "    }\n",
       "\n",
       "    .dataframe thead th {\n",
       "        text-align: right;\n",
       "    }\n",
       "</style>\n",
       "<table border=\"1\" class=\"dataframe\">\n",
       "  <thead>\n",
       "    <tr style=\"text-align: right;\">\n",
       "      <th></th>\n",
       "      <th>0</th>\n",
       "    </tr>\n",
       "  </thead>\n",
       "  <tbody>\n",
       "    <tr>\n",
       "      <td>1980</td>\n",
       "      <td>16</td>\n",
       "    </tr>\n",
       "    <tr>\n",
       "      <td>1981</td>\n",
       "      <td>39</td>\n",
       "    </tr>\n",
       "    <tr>\n",
       "      <td>1982</td>\n",
       "      <td>39</td>\n",
       "    </tr>\n",
       "    <tr>\n",
       "      <td>1983</td>\n",
       "      <td>47</td>\n",
       "    </tr>\n",
       "    <tr>\n",
       "      <td>1984</td>\n",
       "      <td>71</td>\n",
       "    </tr>\n",
       "    <tr>\n",
       "      <td>1985</td>\n",
       "      <td>340</td>\n",
       "    </tr>\n",
       "    <tr>\n",
       "      <td>1986</td>\n",
       "      <td>496</td>\n",
       "    </tr>\n",
       "    <tr>\n",
       "      <td>1987</td>\n",
       "      <td>741</td>\n",
       "    </tr>\n",
       "    <tr>\n",
       "      <td>1988</td>\n",
       "      <td>828</td>\n",
       "    </tr>\n",
       "    <tr>\n",
       "      <td>1989</td>\n",
       "      <td>1076</td>\n",
       "    </tr>\n",
       "    <tr>\n",
       "      <td>1990</td>\n",
       "      <td>1028</td>\n",
       "    </tr>\n",
       "    <tr>\n",
       "      <td>1991</td>\n",
       "      <td>1378</td>\n",
       "    </tr>\n",
       "    <tr>\n",
       "      <td>1992</td>\n",
       "      <td>1170</td>\n",
       "    </tr>\n",
       "    <tr>\n",
       "      <td>1993</td>\n",
       "      <td>713</td>\n",
       "    </tr>\n",
       "    <tr>\n",
       "      <td>1994</td>\n",
       "      <td>858</td>\n",
       "    </tr>\n",
       "    <tr>\n",
       "      <td>1995</td>\n",
       "      <td>1537</td>\n",
       "    </tr>\n",
       "    <tr>\n",
       "      <td>1996</td>\n",
       "      <td>2212</td>\n",
       "    </tr>\n",
       "    <tr>\n",
       "      <td>1997</td>\n",
       "      <td>2555</td>\n",
       "    </tr>\n",
       "    <tr>\n",
       "      <td>1998</td>\n",
       "      <td>1999</td>\n",
       "    </tr>\n",
       "    <tr>\n",
       "      <td>1999</td>\n",
       "      <td>2395</td>\n",
       "    </tr>\n",
       "    <tr>\n",
       "      <td>2000</td>\n",
       "      <td>3326</td>\n",
       "    </tr>\n",
       "    <tr>\n",
       "      <td>2001</td>\n",
       "      <td>4067</td>\n",
       "    </tr>\n",
       "    <tr>\n",
       "      <td>2002</td>\n",
       "      <td>3697</td>\n",
       "    </tr>\n",
       "    <tr>\n",
       "      <td>2003</td>\n",
       "      <td>3479</td>\n",
       "    </tr>\n",
       "    <tr>\n",
       "      <td>2004</td>\n",
       "      <td>2978</td>\n",
       "    </tr>\n",
       "    <tr>\n",
       "      <td>2005</td>\n",
       "      <td>3436</td>\n",
       "    </tr>\n",
       "    <tr>\n",
       "      <td>2006</td>\n",
       "      <td>3009</td>\n",
       "    </tr>\n",
       "    <tr>\n",
       "      <td>2007</td>\n",
       "      <td>2652</td>\n",
       "    </tr>\n",
       "    <tr>\n",
       "      <td>2008</td>\n",
       "      <td>2111</td>\n",
       "    </tr>\n",
       "    <tr>\n",
       "      <td>2009</td>\n",
       "      <td>1746</td>\n",
       "    </tr>\n",
       "    <tr>\n",
       "      <td>2010</td>\n",
       "      <td>1758</td>\n",
       "    </tr>\n",
       "    <tr>\n",
       "      <td>2011</td>\n",
       "      <td>2203</td>\n",
       "    </tr>\n",
       "    <tr>\n",
       "      <td>2012</td>\n",
       "      <td>2635</td>\n",
       "    </tr>\n",
       "  </tbody>\n",
       "</table>\n",
       "</div>"
      ],
      "text/plain": [
       "         0\n",
       "1980    16\n",
       "1981    39\n",
       "1982    39\n",
       "1983    47\n",
       "1984    71\n",
       "1985   340\n",
       "1986   496\n",
       "1987   741\n",
       "1988   828\n",
       "1989  1076\n",
       "1990  1028\n",
       "1991  1378\n",
       "1992  1170\n",
       "1993   713\n",
       "1994   858\n",
       "1995  1537\n",
       "1996  2212\n",
       "1997  2555\n",
       "1998  1999\n",
       "1999  2395\n",
       "2000  3326\n",
       "2001  4067\n",
       "2002  3697\n",
       "2003  3479\n",
       "2004  2978\n",
       "2005  3436\n",
       "2006  3009\n",
       "2007  2652\n",
       "2008  2111\n",
       "2009  1746\n",
       "2010  1758\n",
       "2011  2203\n",
       "2012  2635"
      ]
     },
     "execution_count": 9,
     "metadata": {},
     "output_type": "execute_result"
    }
   ],
   "source": [
    "years = list(range(1980,2013))\n",
    "line_chart = data_canada_df[data_canada_df['OdName']=='Afghanistan'][years]\n",
    "line_chart = line_chart.transpose()\n",
    "line_chart\n",
    "#data_df.loc[data_df['team_id'] == 'MNL','win_equiv']"
   ]
  },
  {
   "cell_type": "code",
   "execution_count": 10,
   "metadata": {},
   "outputs": [
    {
     "data": {
      "image/png": "[encoded data removed]",
      "text/plain": [
       "<matplotlib.figure.Figure at 0x7ff24ade4780>"
      ]
     },
     "metadata": {
      "needs_background": "light"
     },
     "output_type": "display_data"
    }
   ],
   "source": [
    "line_chart.plot(kind='line')\n",
    "plt.title('Immigration from Afganisthan')\n",
    "plt.ylabel('Number of Immigrants')\n",
    "plt.show()"
   ]
  },
  {
   "cell_type": "code",
   "execution_count": null,
   "metadata": {},
   "outputs": [],
   "source": [
    "line_chart2 = data_canada_df2.loc['Afghanistan',years]\n",
    "line_chart2"
   ]
  },
  {
   "cell_type": "code",
   "execution_count": null,
   "metadata": {},
   "outputs": [],
   "source": [
    "line_chart2.plot(kind='line')\n",
    "plt.title('Immigration from Afganisthan')\n",
    "plt.ylabel('Number of Immigrants')\n",
    "plt.show()"
   ]
  },
  {
   "cell_type": "markdown",
   "metadata": {},
   "source": [
    "case: \n",
    "perbandingan pergerakan dari afgan vs alban dalam bentuk line chart"
   ]
  },
  {
   "cell_type": "code",
   "execution_count": 11,
   "metadata": {},
   "outputs": [
    {
     "data": {
      "text/plain": [
       "Text(0,0.5,'Number of Immigrants')"
      ]
     },
     "execution_count": 11,
     "metadata": {},
     "output_type": "execute_result"
    },
    {
     "data": {
      "image/png": "[encoded data removed]",
      "text/plain": [
       "<matplotlib.figure.Figure at 0x7ff24b011ac8>"
      ]
     },
     "metadata": {
      "needs_background": "light"
     },
     "output_type": "display_data"
    }
   ],
   "source": [
    "df_can = data_canada_df\n",
    "yearsx = list(range(1980,2013))\n",
    "line_chartx = df_can[df_can['OdName'].isin(['Afghanistan','Albania'])] [years]\n",
    "line_chartx = line_chartx.transpose()\n",
    "line_chartx.rename(columns={0:'Afghanistan',1:'Albania'},inplace=True)\n",
    "line_chartx.plot(kind='line')\n",
    "plt.title('Immigration from Afghanistan')\n",
    "plt.ylabel('Number of Immigrants')"
   ]
  },
  {
   "cell_type": "code",
   "execution_count": 12,
   "metadata": {},
   "outputs": [
    {
     "data": {
      "image/png": "[encoded data removed]",
      "text/plain": [
       "<matplotlib.figure.Figure at 0x7ff24b080080>"
      ]
     },
     "metadata": {
      "needs_background": "light"
     },
     "output_type": "display_data"
    }
   ],
   "source": [
    "line_chart2 = data_canada_df2.loc[['Afghanistan','Albania'],years].transpose()\n",
    "line_chart2.plot(kind='line')\n",
    "plt.title('Immigration from Afganisthan & Albania')\n",
    "plt.ylabel('Number of Immigrants')\n",
    "plt.show()"
   ]
  },
  {
   "cell_type": "code",
   "execution_count": 75,
   "metadata": {},
   "outputs": [
    {
     "data": {
      "image/png": "[encoded data removed]",
      "text/plain": [
       "<matplotlib.figure.Figure at 0x7ff075297630>"
      ]
     },
     "metadata": {
      "needs_background": "light"
     },
     "output_type": "display_data"
    }
   ],
   "source": [
    "line_chart2 = data_canada_df2.loc[['Afghanistan','Albania'],years].transpose()\n",
    "line_chart2.plot(kind='area')\n",
    "plt.title('Immigration from Afganisthan & Albania')\n",
    "plt.ylabel('Number of Immigrants')\n",
    "plt.show()"
   ]
  },
  {
   "cell_type": "code",
   "execution_count": 15,
   "metadata": {},
   "outputs": [
    {
     "data": {
      "text/html": [
       "<div>\n",
       "<style scoped>\n",
       "    .dataframe tbody tr th:only-of-type {\n",
       "        vertical-align: middle;\n",
       "    }\n",
       "\n",
       "    .dataframe tbody tr th {\n",
       "        vertical-align: top;\n",
       "    }\n",
       "\n",
       "    .dataframe thead th {\n",
       "        text-align: right;\n",
       "    }\n",
       "</style>\n",
       "<table border=\"1\" class=\"dataframe\">\n",
       "  <thead>\n",
       "    <tr style=\"text-align: right;\">\n",
       "      <th></th>\n",
       "      <th>lsoa_code</th>\n",
       "      <th>borough</th>\n",
       "      <th>major_category</th>\n",
       "      <th>minor_category</th>\n",
       "      <th>value</th>\n",
       "      <th>year</th>\n",
       "      <th>month</th>\n",
       "    </tr>\n",
       "  </thead>\n",
       "  <tbody>\n",
       "    <tr>\n",
       "      <td>0</td>\n",
       "      <td>E01001116</td>\n",
       "      <td>Croydon</td>\n",
       "      <td>Burglary</td>\n",
       "      <td>Burglary in Other Buildings</td>\n",
       "      <td>0</td>\n",
       "      <td>2016</td>\n",
       "      <td>11</td>\n",
       "    </tr>\n",
       "    <tr>\n",
       "      <td>1</td>\n",
       "      <td>E01001646</td>\n",
       "      <td>Greenwich</td>\n",
       "      <td>Violence Against the Person</td>\n",
       "      <td>Other violence</td>\n",
       "      <td>0</td>\n",
       "      <td>2016</td>\n",
       "      <td>11</td>\n",
       "    </tr>\n",
       "    <tr>\n",
       "      <td>2</td>\n",
       "      <td>E01000677</td>\n",
       "      <td>Bromley</td>\n",
       "      <td>Violence Against the Person</td>\n",
       "      <td>Other violence</td>\n",
       "      <td>0</td>\n",
       "      <td>2015</td>\n",
       "      <td>5</td>\n",
       "    </tr>\n",
       "    <tr>\n",
       "      <td>3</td>\n",
       "      <td>E01003774</td>\n",
       "      <td>Redbridge</td>\n",
       "      <td>Burglary</td>\n",
       "      <td>Burglary in Other Buildings</td>\n",
       "      <td>0</td>\n",
       "      <td>2016</td>\n",
       "      <td>3</td>\n",
       "    </tr>\n",
       "    <tr>\n",
       "      <td>4</td>\n",
       "      <td>E01004563</td>\n",
       "      <td>Wandsworth</td>\n",
       "      <td>Robbery</td>\n",
       "      <td>Personal Property</td>\n",
       "      <td>0</td>\n",
       "      <td>2008</td>\n",
       "      <td>6</td>\n",
       "    </tr>\n",
       "    <tr>\n",
       "      <td>...</td>\n",
       "      <td>...</td>\n",
       "      <td>...</td>\n",
       "      <td>...</td>\n",
       "      <td>...</td>\n",
       "      <td>...</td>\n",
       "      <td>...</td>\n",
       "      <td>...</td>\n",
       "    </tr>\n",
       "    <tr>\n",
       "      <td>13490599</td>\n",
       "      <td>E01000504</td>\n",
       "      <td>Brent</td>\n",
       "      <td>Criminal Damage</td>\n",
       "      <td>Criminal Damage To Dwelling</td>\n",
       "      <td>0</td>\n",
       "      <td>2015</td>\n",
       "      <td>2</td>\n",
       "    </tr>\n",
       "    <tr>\n",
       "      <td>13490600</td>\n",
       "      <td>E01002504</td>\n",
       "      <td>Hillingdon</td>\n",
       "      <td>Robbery</td>\n",
       "      <td>Personal Property</td>\n",
       "      <td>1</td>\n",
       "      <td>2015</td>\n",
       "      <td>6</td>\n",
       "    </tr>\n",
       "    <tr>\n",
       "      <td>13490601</td>\n",
       "      <td>E01004165</td>\n",
       "      <td>Sutton</td>\n",
       "      <td>Burglary</td>\n",
       "      <td>Burglary in a Dwelling</td>\n",
       "      <td>0</td>\n",
       "      <td>2011</td>\n",
       "      <td>2</td>\n",
       "    </tr>\n",
       "    <tr>\n",
       "      <td>13490602</td>\n",
       "      <td>E01001134</td>\n",
       "      <td>Croydon</td>\n",
       "      <td>Robbery</td>\n",
       "      <td>Business Property</td>\n",
       "      <td>0</td>\n",
       "      <td>2011</td>\n",
       "      <td>5</td>\n",
       "    </tr>\n",
       "    <tr>\n",
       "      <td>13490603</td>\n",
       "      <td>E01003413</td>\n",
       "      <td>Merton</td>\n",
       "      <td>Violence Against the Person</td>\n",
       "      <td>Wounding/GBH</td>\n",
       "      <td>0</td>\n",
       "      <td>2015</td>\n",
       "      <td>6</td>\n",
       "    </tr>\n",
       "  </tbody>\n",
       "</table>\n",
       "<p>13490604 rows × 7 columns</p>\n",
       "</div>"
      ],
      "text/plain": [
       "          lsoa_code     borough               major_category  \\\n",
       "0         E01001116     Croydon                     Burglary   \n",
       "1         E01001646   Greenwich  Violence Against the Person   \n",
       "2         E01000677     Bromley  Violence Against the Person   \n",
       "3         E01003774   Redbridge                     Burglary   \n",
       "4         E01004563  Wandsworth                      Robbery   \n",
       "...             ...         ...                          ...   \n",
       "13490599  E01000504       Brent              Criminal Damage   \n",
       "13490600  E01002504  Hillingdon                      Robbery   \n",
       "13490601  E01004165      Sutton                     Burglary   \n",
       "13490602  E01001134     Croydon                      Robbery   \n",
       "13490603  E01003413      Merton  Violence Against the Person   \n",
       "\n",
       "                       minor_category  value  year  month  \n",
       "0         Burglary in Other Buildings      0  2016     11  \n",
       "1                      Other violence      0  2016     11  \n",
       "2                      Other violence      0  2015      5  \n",
       "3         Burglary in Other Buildings      0  2016      3  \n",
       "4                   Personal Property      0  2008      6  \n",
       "...                               ...    ...   ...    ...  \n",
       "13490599  Criminal Damage To Dwelling      0  2015      2  \n",
       "13490600            Personal Property      1  2015      6  \n",
       "13490601       Burglary in a Dwelling      0  2011      2  \n",
       "13490602            Business Property      0  2011      5  \n",
       "13490603                 Wounding/GBH      0  2015      6  \n",
       "\n",
       "[13490604 rows x 7 columns]"
      ]
     },
     "execution_count": 15,
     "metadata": {},
     "output_type": "execute_result"
    }
   ],
   "source": [
    "data_london_df = pd.read_csv('./dataset/london_crime_by_lsoa.csv')\n",
    "data_london_df"
   ]
  },
  {
   "cell_type": "code",
   "execution_count": null,
   "metadata": {},
   "outputs": [],
   "source": [
    "data_london_df.describe()"
   ]
  },
  {
   "cell_type": "code",
   "execution_count": null,
   "metadata": {},
   "outputs": [],
   "source": [
    "data_london_total = data_london_df.groupby(['year','month'],axis=0)['value'].sum()\n",
    "data_london_total\n",
    "#df_con = data_canada_df.groupby('AreaName',axis=0).sum()"
   ]
  },
  {
   "cell_type": "code",
   "execution_count": 13,
   "metadata": {},
   "outputs": [
    {
     "data": {
      "image/png": "[encoded data removed]",
      "text/plain": [
       "<matplotlib.figure.Figure at 0x7ff24afbdac8>"
      ]
     },
     "metadata": {
      "needs_background": "light"
     },
     "output_type": "display_data"
    }
   ],
   "source": [
    "line_chart2 = data_canada_df2.loc[['Afghanistan','Albania'],years].transpose()\n",
    "line_chart2.plot(kind='bar')\n",
    "plt.title('Immigration from Afganisthan & Albania')\n",
    "plt.ylabel('Number of Immigrants')\n",
    "plt.show()"
   ]
  },
  {
   "cell_type": "markdown",
   "metadata": {},
   "source": [
    "case: \n",
    "perkembangan kasus total per bulan per tahun pakai line chart"
   ]
  },
  {
   "cell_type": "markdown",
   "metadata": {},
   "source": [
    "1. bagaimana pergerakan imigrant dr afgan di canada? -- line chart\n",
    "2. mayoritas dari area mana yg datang ke canada? -- pie chart\n",
    "3. dari tipe region apa saja imigran yg dateng ke canada? -- bar chart"
   ]
  },
  {
   "cell_type": "code",
   "execution_count": 6,
   "metadata": {},
   "outputs": [
    {
     "data": {
      "text/plain": [
       "AreaName\n",
       "Africa                              4363\n",
       "Asia                               34314\n",
       "Europe                             44802\n",
       "Latin America and the Caribbean    15215\n",
       "Northern America                   10030\n",
       "Oceania                             1839\n",
       "Name: 1981, dtype: int64"
      ]
     },
     "execution_count": 6,
     "metadata": {},
     "output_type": "execute_result"
    }
   ],
   "source": [
    "data_canada_df3 = data_canada_df.copy()\n",
    "#data_canada_df3.set_index('AreaName',inplace=True)\n",
    "data_canada_total = data_canada_df3.groupby('AreaName',axis=0)[1981].sum()\n",
    "data_canada_total"
   ]
  },
  {
   "cell_type": "code",
   "execution_count": 7,
   "metadata": {
    "scrolled": false
   },
   "outputs": [
    {
     "data": {
      "image/png": "[encoded data removed]",
      "text/plain": [
       "<matplotlib.figure.Figure at 0x7ff24b0114e0>"
      ]
     },
     "metadata": {},
     "output_type": "display_data"
    }
   ],
   "source": [
    "color_list = ['gold','pink','lightcoral','lightskyblue','lightgreen','red']\n",
    "data_canada_total.plot(kind='pie',figsize=(14,8),autopct='%1.1f%%',labels=None,colors=color_list)\n",
    "plt.title('Immigration in Canada')\n",
    "plt.axis('equal')\n",
    "plt.legend(labels=data_canada_total.index,loc='upper left')\n",
    "plt.show()"
   ]
  },
  {
   "cell_type": "markdown",
   "metadata": {},
   "source": [
    "case: \n",
    "mayoritas dari region mana yg datang ke canada tp secara total [1980-2013]?"
   ]
  },
  {
   "cell_type": "code",
   "execution_count": 70,
   "metadata": {},
   "outputs": [
    {
     "data": {
      "text/plain": [
       "RegName\n",
       "Australia and New Zealand      32679\n",
       "Caribbean                     297860\n",
       "Central America               156009\n",
       "Central Asia                   14333\n",
       "Eastern Africa                157941\n",
       "Eastern Asia                  800662\n",
       "Eastern Europe                411212\n",
       "Melanesia                      20456\n",
       "Micronesia                        35\n",
       "Middle Africa                  43623\n",
       "Northern Africa               241469\n",
       "Northern America              232639\n",
       "Northern Europe               581911\n",
       "Polynesia                        229\n",
       "South America                 286329\n",
       "South-Eastern Asia            653970\n",
       "Southern Africa                40135\n",
       "Southern Asia                1331156\n",
       "Southern Europe               165450\n",
       "Western Africa                 97237\n",
       "Western Asia                  362598\n",
       "Western Europe                223683\n",
       "dtype: int64"
      ]
     },
     "execution_count": 70,
     "metadata": {},
     "output_type": "execute_result"
    }
   ],
   "source": [
    "region_total"
   ]
  },
  {
   "cell_type": "code",
   "execution_count": 73,
   "metadata": {},
   "outputs": [
    {
     "data": {
      "text/plain": [
       "RegName\n",
       "Southern Asia         1331156\n",
       "Eastern Asia           800662\n",
       "South-Eastern Asia     653970\n",
       "Northern Europe        581911\n",
       "Eastern Europe         411212\n",
       "Name: Total, dtype: int64"
      ]
     },
     "execution_count": 73,
     "metadata": {},
     "output_type": "execute_result"
    }
   ],
   "source": [
    "region_total_df = pd.DataFrame(region_total,columns=['Total'])\n",
    "region_total_df.sort_values(by='Total',ascending=False,axis=0,inplace=True)\n",
    "region_total_df_top5 = region_total_df.head(5)\n",
    "region_total_df_top5['Total']"
   ]
  },
  {
   "cell_type": "code",
   "execution_count": 74,
   "metadata": {},
   "outputs": [
    {
     "data": {
      "image/png": "[encoded data removed]",
      "text/plain": [
       "<matplotlib.figure.Figure at 0x7ff0750a5e48>"
      ]
     },
     "metadata": {},
     "output_type": "display_data"
    }
   ],
   "source": [
    "region_total_df_top5['Total'].plot(kind='pie',figsize=(14,8),autopct='%1.1f%%',labels=None)\n",
    "plt.title('Immigration in Canada')\n",
    "plt.axis('equal')\n",
    "plt.legend(labels=region_total.index,loc='upper left')\n",
    "plt.show()"
   ]
  },
  {
   "cell_type": "code",
   "execution_count": 59,
   "metadata": {},
   "outputs": [
    {
     "data": {
      "image/png": "[encoded data removed]",
      "text/plain": [
       "<matplotlib.figure.Figure at 0x7ff1509dca58>"
      ]
     },
     "metadata": {},
     "output_type": "display_data"
    }
   ],
   "source": [
    "region_total = data_canada_df3.groupby('RegName',axis=0)[years].sum().sum(axis=1)\n",
    "\n",
    "region_total.plot(kind='pie',figsize=(14,8),autopct='%1.1f%%',labels=None)\n",
    "plt.title('Immigration in Canada')\n",
    "plt.axis('equal')\n",
    "plt.legend(labels=region_total.index,loc='upper left')\n",
    "plt.show()"
   ]
  },
  {
   "cell_type": "markdown",
   "metadata": {},
   "source": [
    "case: \n",
    "1. city total crime ny paling besar siapa?\n",
    "2. category dengan total crime ny paling besar itu apa?"
   ]
  },
  {
   "cell_type": "code",
   "execution_count": 35,
   "metadata": {},
   "outputs": [
    {
     "data": {
      "text/html": [
       "<div>\n",
       "<style scoped>\n",
       "    .dataframe tbody tr th:only-of-type {\n",
       "        vertical-align: middle;\n",
       "    }\n",
       "\n",
       "    .dataframe tbody tr th {\n",
       "        vertical-align: top;\n",
       "    }\n",
       "\n",
       "    .dataframe thead th {\n",
       "        text-align: right;\n",
       "    }\n",
       "</style>\n",
       "<table border=\"1\" class=\"dataframe\">\n",
       "  <thead>\n",
       "    <tr style=\"text-align: right;\">\n",
       "      <th>OdName</th>\n",
       "      <th>Afghanistan</th>\n",
       "      <th>Albania</th>\n",
       "    </tr>\n",
       "  </thead>\n",
       "  <tbody>\n",
       "    <tr>\n",
       "      <td>1980</td>\n",
       "      <td>16</td>\n",
       "      <td>1</td>\n",
       "    </tr>\n",
       "    <tr>\n",
       "      <td>1981</td>\n",
       "      <td>39</td>\n",
       "      <td>0</td>\n",
       "    </tr>\n",
       "    <tr>\n",
       "      <td>1982</td>\n",
       "      <td>39</td>\n",
       "      <td>0</td>\n",
       "    </tr>\n",
       "    <tr>\n",
       "      <td>1983</td>\n",
       "      <td>47</td>\n",
       "      <td>0</td>\n",
       "    </tr>\n",
       "    <tr>\n",
       "      <td>1984</td>\n",
       "      <td>71</td>\n",
       "      <td>0</td>\n",
       "    </tr>\n",
       "    <tr>\n",
       "      <td>1985</td>\n",
       "      <td>340</td>\n",
       "      <td>0</td>\n",
       "    </tr>\n",
       "    <tr>\n",
       "      <td>1986</td>\n",
       "      <td>496</td>\n",
       "      <td>1</td>\n",
       "    </tr>\n",
       "    <tr>\n",
       "      <td>1987</td>\n",
       "      <td>741</td>\n",
       "      <td>2</td>\n",
       "    </tr>\n",
       "    <tr>\n",
       "      <td>1988</td>\n",
       "      <td>828</td>\n",
       "      <td>2</td>\n",
       "    </tr>\n",
       "    <tr>\n",
       "      <td>1989</td>\n",
       "      <td>1076</td>\n",
       "      <td>3</td>\n",
       "    </tr>\n",
       "    <tr>\n",
       "      <td>1990</td>\n",
       "      <td>1028</td>\n",
       "      <td>3</td>\n",
       "    </tr>\n",
       "    <tr>\n",
       "      <td>1991</td>\n",
       "      <td>1378</td>\n",
       "      <td>21</td>\n",
       "    </tr>\n",
       "    <tr>\n",
       "      <td>1992</td>\n",
       "      <td>1170</td>\n",
       "      <td>56</td>\n",
       "    </tr>\n",
       "    <tr>\n",
       "      <td>1993</td>\n",
       "      <td>713</td>\n",
       "      <td>96</td>\n",
       "    </tr>\n",
       "    <tr>\n",
       "      <td>1994</td>\n",
       "      <td>858</td>\n",
       "      <td>71</td>\n",
       "    </tr>\n",
       "    <tr>\n",
       "      <td>1995</td>\n",
       "      <td>1537</td>\n",
       "      <td>63</td>\n",
       "    </tr>\n",
       "    <tr>\n",
       "      <td>1996</td>\n",
       "      <td>2212</td>\n",
       "      <td>113</td>\n",
       "    </tr>\n",
       "    <tr>\n",
       "      <td>1997</td>\n",
       "      <td>2555</td>\n",
       "      <td>307</td>\n",
       "    </tr>\n",
       "    <tr>\n",
       "      <td>1998</td>\n",
       "      <td>1999</td>\n",
       "      <td>574</td>\n",
       "    </tr>\n",
       "    <tr>\n",
       "      <td>1999</td>\n",
       "      <td>2395</td>\n",
       "      <td>1264</td>\n",
       "    </tr>\n",
       "    <tr>\n",
       "      <td>2000</td>\n",
       "      <td>3326</td>\n",
       "      <td>1816</td>\n",
       "    </tr>\n",
       "    <tr>\n",
       "      <td>2001</td>\n",
       "      <td>4067</td>\n",
       "      <td>1602</td>\n",
       "    </tr>\n",
       "    <tr>\n",
       "      <td>2002</td>\n",
       "      <td>3697</td>\n",
       "      <td>1021</td>\n",
       "    </tr>\n",
       "    <tr>\n",
       "      <td>2003</td>\n",
       "      <td>3479</td>\n",
       "      <td>853</td>\n",
       "    </tr>\n",
       "    <tr>\n",
       "      <td>2004</td>\n",
       "      <td>2978</td>\n",
       "      <td>1450</td>\n",
       "    </tr>\n",
       "    <tr>\n",
       "      <td>2005</td>\n",
       "      <td>3436</td>\n",
       "      <td>1223</td>\n",
       "    </tr>\n",
       "    <tr>\n",
       "      <td>2006</td>\n",
       "      <td>3009</td>\n",
       "      <td>856</td>\n",
       "    </tr>\n",
       "    <tr>\n",
       "      <td>2007</td>\n",
       "      <td>2652</td>\n",
       "      <td>702</td>\n",
       "    </tr>\n",
       "    <tr>\n",
       "      <td>2008</td>\n",
       "      <td>2111</td>\n",
       "      <td>560</td>\n",
       "    </tr>\n",
       "    <tr>\n",
       "      <td>2009</td>\n",
       "      <td>1746</td>\n",
       "      <td>716</td>\n",
       "    </tr>\n",
       "    <tr>\n",
       "      <td>2010</td>\n",
       "      <td>1758</td>\n",
       "      <td>561</td>\n",
       "    </tr>\n",
       "    <tr>\n",
       "      <td>2011</td>\n",
       "      <td>2203</td>\n",
       "      <td>539</td>\n",
       "    </tr>\n",
       "    <tr>\n",
       "      <td>2012</td>\n",
       "      <td>2635</td>\n",
       "      <td>620</td>\n",
       "    </tr>\n",
       "  </tbody>\n",
       "</table>\n",
       "</div>"
      ],
      "text/plain": [
       "OdName  Afghanistan  Albania\n",
       "1980             16        1\n",
       "1981             39        0\n",
       "1982             39        0\n",
       "1983             47        0\n",
       "1984             71        0\n",
       "1985            340        0\n",
       "1986            496        1\n",
       "1987            741        2\n",
       "1988            828        2\n",
       "1989           1076        3\n",
       "1990           1028        3\n",
       "1991           1378       21\n",
       "1992           1170       56\n",
       "1993            713       96\n",
       "1994            858       71\n",
       "1995           1537       63\n",
       "1996           2212      113\n",
       "1997           2555      307\n",
       "1998           1999      574\n",
       "1999           2395     1264\n",
       "2000           3326     1816\n",
       "2001           4067     1602\n",
       "2002           3697     1021\n",
       "2003           3479      853\n",
       "2004           2978     1450\n",
       "2005           3436     1223\n",
       "2006           3009      856\n",
       "2007           2652      702\n",
       "2008           2111      560\n",
       "2009           1746      716\n",
       "2010           1758      561\n",
       "2011           2203      539\n",
       "2012           2635      620"
      ]
     },
     "execution_count": 35,
     "metadata": {},
     "output_type": "execute_result"
    }
   ],
   "source": [
    "line_chart2"
   ]
  },
  {
   "cell_type": "code",
   "execution_count": 17,
   "metadata": {},
   "outputs": [
    {
     "data": {
      "image/png": "[encoded data removed]",
      "text/plain": [
       "<matplotlib.figure.Figure at 0x7ff1bf601c50>"
      ]
     },
     "metadata": {
      "needs_background": "light"
     },
     "output_type": "display_data"
    }
   ],
   "source": [
    "line_chart2.plot(kind='box',figsize=(14,8))\n",
    "plt.title('Immigration in Canada')\n",
    "plt.ylabel('Number of Immigrants')\n",
    "plt.xlabel('Country')\n",
    "plt.show()"
   ]
  },
  {
   "cell_type": "code",
   "execution_count": 18,
   "metadata": {},
   "outputs": [
    {
     "ename": "AttributeError",
     "evalue": "'function' object has no attribute 'loc'",
     "output_type": "error",
     "traceback": [
      "\u001b[0;31m---------------------------------------------------------------------------\u001b[0m",
      "\u001b[0;31mAttributeError\u001b[0m                            Traceback (most recent call last)",
      "\u001b[0;32m<ipython-input-18-21aaadb88469>\u001b[0m in \u001b[0;36m<module>\u001b[0;34m\u001b[0m\n\u001b[1;32m      1\u001b[0m \u001b[0mdata_london_df2\u001b[0m \u001b[0;34m=\u001b[0m \u001b[0mdata_london_df\u001b[0m\u001b[0;34m.\u001b[0m\u001b[0mcopy\u001b[0m\u001b[0;34m(\u001b[0m\u001b[0;34m)\u001b[0m\u001b[0;34m\u001b[0m\u001b[0;34m\u001b[0m\u001b[0m\n\u001b[1;32m      2\u001b[0m \u001b[0mdata_london_df2\u001b[0m\u001b[0;34m.\u001b[0m\u001b[0mset_index\u001b[0m\u001b[0;34m(\u001b[0m\u001b[0;34m'borough'\u001b[0m\u001b[0;34m)\u001b[0m\u001b[0;34m\u001b[0m\u001b[0;34m\u001b[0m\u001b[0m\n\u001b[0;32m----> 3\u001b[0;31m \u001b[0mdata_london_df\u001b[0m\u001b[0;34m.\u001b[0m\u001b[0mgroupby\u001b[0m\u001b[0;34m.\u001b[0m\u001b[0mloc\u001b[0m\u001b[0;34m(\u001b[0m\u001b[0;34m'Westminster'\u001b[0m\u001b[0;34m)\u001b[0m\u001b[0;34m[\u001b[0m\u001b[0;34m'value'\u001b[0m\u001b[0;34m]\u001b[0m\u001b[0;34m.\u001b[0m\u001b[0mplot\u001b[0m\u001b[0;34m(\u001b[0m\u001b[0mkind\u001b[0m\u001b[0;34m=\u001b[0m\u001b[0;34m'bar'\u001b[0m\u001b[0;34m)\u001b[0m\u001b[0;34m\u001b[0m\u001b[0;34m\u001b[0m\u001b[0m\n\u001b[0m\u001b[1;32m      4\u001b[0m \u001b[0mplt\u001b[0m\u001b[0;34m.\u001b[0m\u001b[0mtitle\u001b[0m\u001b[0;34m(\u001b[0m\u001b[0;34m'Histogram Number of Crime'\u001b[0m\u001b[0;34m)\u001b[0m\u001b[0;34m\u001b[0m\u001b[0;34m\u001b[0m\u001b[0m\n\u001b[1;32m      5\u001b[0m \u001b[0mplt\u001b[0m\u001b[0;34m.\u001b[0m\u001b[0mshow\u001b[0m\u001b[0;34m(\u001b[0m\u001b[0;34m)\u001b[0m\u001b[0;34m\u001b[0m\u001b[0;34m\u001b[0m\u001b[0m\n",
      "\u001b[0;31mAttributeError\u001b[0m: 'function' object has no attribute 'loc'"
     ]
    }
   ],
   "source": [
    "data_london_df2 = data_london_df.copy()\n",
    "data_london_df2.set_index('borough')\n",
    "data_london_df.loc['Westminster'].groupby('borough')['value'].plot(kind='bar')\n",
    "plt.title('Histogram Number of Crime')\n",
    "plt.show()"
   ]
  },
  {
   "cell_type": "code",
   "execution_count": 32,
   "metadata": {},
   "outputs": [
    {
     "data": {
      "image/png": "[encoded data removed]",
      "text/plain": [
       "<matplotlib.figure.Figure at 0x7ff151ac5860>"
      ]
     },
     "metadata": {
      "needs_background": "light"
     },
     "output_type": "display_data"
    }
   ],
   "source": [
    "#data_london_df2 = data_london_df2.set_index('borough')\n",
    "data_london_df2.loc['Westminster']['value'].plot(kind='box',figsize=(14,8))\n",
    "plt.title('Crime distribution in Wesminster')\n",
    "plt.ylabel('Number of Crime')\n",
    "plt.xlabel('City')\n",
    "plt.show()"
   ]
  },
  {
   "cell_type": "code",
   "execution_count": 31,
   "metadata": {},
   "outputs": [
    {
     "data": {
      "text/html": [
       "<div>\n",
       "<style scoped>\n",
       "    .dataframe tbody tr th:only-of-type {\n",
       "        vertical-align: middle;\n",
       "    }\n",
       "\n",
       "    .dataframe tbody tr th {\n",
       "        vertical-align: top;\n",
       "    }\n",
       "\n",
       "    .dataframe thead th {\n",
       "        text-align: right;\n",
       "    }\n",
       "</style>\n",
       "<table border=\"1\" class=\"dataframe\">\n",
       "  <thead>\n",
       "    <tr style=\"text-align: right;\">\n",
       "      <th></th>\n",
       "      <th>lsoa_code</th>\n",
       "      <th>major_category</th>\n",
       "      <th>minor_category</th>\n",
       "      <th>value</th>\n",
       "      <th>year</th>\n",
       "      <th>month</th>\n",
       "    </tr>\n",
       "    <tr>\n",
       "      <th>borough</th>\n",
       "      <th></th>\n",
       "      <th></th>\n",
       "      <th></th>\n",
       "      <th></th>\n",
       "      <th></th>\n",
       "      <th></th>\n",
       "    </tr>\n",
       "  </thead>\n",
       "  <tbody>\n",
       "    <tr>\n",
       "      <td>Westminster</td>\n",
       "      <td>E01004660</td>\n",
       "      <td>Theft and Handling</td>\n",
       "      <td>Handling Stolen Goods</td>\n",
       "      <td>0</td>\n",
       "      <td>2012</td>\n",
       "      <td>2</td>\n",
       "    </tr>\n",
       "    <tr>\n",
       "      <td>Westminster</td>\n",
       "      <td>E01004678</td>\n",
       "      <td>Criminal Damage</td>\n",
       "      <td>Other Criminal Damage</td>\n",
       "      <td>0</td>\n",
       "      <td>2008</td>\n",
       "      <td>11</td>\n",
       "    </tr>\n",
       "    <tr>\n",
       "      <td>Westminster</td>\n",
       "      <td>E01032513</td>\n",
       "      <td>Violence Against the Person</td>\n",
       "      <td>Wounding/GBH</td>\n",
       "      <td>0</td>\n",
       "      <td>2009</td>\n",
       "      <td>9</td>\n",
       "    </tr>\n",
       "    <tr>\n",
       "      <td>Westminster</td>\n",
       "      <td>E01004674</td>\n",
       "      <td>Theft and Handling</td>\n",
       "      <td>Motor Vehicle Interference &amp; Tampering</td>\n",
       "      <td>1</td>\n",
       "      <td>2014</td>\n",
       "      <td>4</td>\n",
       "    </tr>\n",
       "    <tr>\n",
       "      <td>Westminster</td>\n",
       "      <td>E01004677</td>\n",
       "      <td>Theft and Handling</td>\n",
       "      <td>Other Theft Person</td>\n",
       "      <td>0</td>\n",
       "      <td>2015</td>\n",
       "      <td>10</td>\n",
       "    </tr>\n",
       "    <tr>\n",
       "      <td>...</td>\n",
       "      <td>...</td>\n",
       "      <td>...</td>\n",
       "      <td>...</td>\n",
       "      <td>...</td>\n",
       "      <td>...</td>\n",
       "      <td>...</td>\n",
       "    </tr>\n",
       "    <tr>\n",
       "      <td>Westminster</td>\n",
       "      <td>E01004711</td>\n",
       "      <td>Violence Against the Person</td>\n",
       "      <td>Assault with Injury</td>\n",
       "      <td>1</td>\n",
       "      <td>2015</td>\n",
       "      <td>6</td>\n",
       "    </tr>\n",
       "    <tr>\n",
       "      <td>Westminster</td>\n",
       "      <td>E01004724</td>\n",
       "      <td>Theft and Handling</td>\n",
       "      <td>Theft From Shops</td>\n",
       "      <td>1</td>\n",
       "      <td>2008</td>\n",
       "      <td>9</td>\n",
       "    </tr>\n",
       "    <tr>\n",
       "      <td>Westminster</td>\n",
       "      <td>E01004654</td>\n",
       "      <td>Robbery</td>\n",
       "      <td>Personal Property</td>\n",
       "      <td>0</td>\n",
       "      <td>2009</td>\n",
       "      <td>12</td>\n",
       "    </tr>\n",
       "    <tr>\n",
       "      <td>Westminster</td>\n",
       "      <td>E01004712</td>\n",
       "      <td>Theft and Handling</td>\n",
       "      <td>Other Theft</td>\n",
       "      <td>17</td>\n",
       "      <td>2012</td>\n",
       "      <td>6</td>\n",
       "    </tr>\n",
       "    <tr>\n",
       "      <td>Westminster</td>\n",
       "      <td>E01004742</td>\n",
       "      <td>Theft and Handling</td>\n",
       "      <td>Theft/Taking of Pedal Cycle</td>\n",
       "      <td>0</td>\n",
       "      <td>2016</td>\n",
       "      <td>9</td>\n",
       "    </tr>\n",
       "  </tbody>\n",
       "</table>\n",
       "<p>366660 rows × 6 columns</p>\n",
       "</div>"
      ],
      "text/plain": [
       "             lsoa_code               major_category  \\\n",
       "borough                                               \n",
       "Westminster  E01004660           Theft and Handling   \n",
       "Westminster  E01004678              Criminal Damage   \n",
       "Westminster  E01032513  Violence Against the Person   \n",
       "Westminster  E01004674           Theft and Handling   \n",
       "Westminster  E01004677           Theft and Handling   \n",
       "...                ...                          ...   \n",
       "Westminster  E01004711  Violence Against the Person   \n",
       "Westminster  E01004724           Theft and Handling   \n",
       "Westminster  E01004654                      Robbery   \n",
       "Westminster  E01004712           Theft and Handling   \n",
       "Westminster  E01004742           Theft and Handling   \n",
       "\n",
       "                                     minor_category  value  year  month  \n",
       "borough                                                                  \n",
       "Westminster                   Handling Stolen Goods      0  2012      2  \n",
       "Westminster                   Other Criminal Damage      0  2008     11  \n",
       "Westminster                            Wounding/GBH      0  2009      9  \n",
       "Westminster  Motor Vehicle Interference & Tampering      1  2014      4  \n",
       "Westminster                      Other Theft Person      0  2015     10  \n",
       "...                                             ...    ...   ...    ...  \n",
       "Westminster                     Assault with Injury      1  2015      6  \n",
       "Westminster                        Theft From Shops      1  2008      9  \n",
       "Westminster                       Personal Property      0  2009     12  \n",
       "Westminster                             Other Theft     17  2012      6  \n",
       "Westminster             Theft/Taking of Pedal Cycle      0  2016      9  \n",
       "\n",
       "[366660 rows x 6 columns]"
      ]
     },
     "execution_count": 31,
     "metadata": {},
     "output_type": "execute_result"
    }
   ],
   "source": [
    "#data_london_df2 = data_london_df2.set_index('borough')\n",
    "data_london_df2.loc['Westminster']"
   ]
  },
  {
   "cell_type": "code",
   "execution_count": null,
   "metadata": {},
   "outputs": [],
   "source": [
    "data_london_df4 = data_london_df[data_london_df['value']!=0]\n",
    "data_london_df4 = data_london_df4[['value','major_category']].transpose()\n",
    "data_london_df4"
   ]
  },
  {
   "cell_type": "code",
   "execution_count": 53,
   "metadata": {},
   "outputs": [
    {
     "data": {
      "text/html": [
       "<div>\n",
       "<style scoped>\n",
       "    .dataframe tbody tr th:only-of-type {\n",
       "        vertical-align: middle;\n",
       "    }\n",
       "\n",
       "    .dataframe tbody tr th {\n",
       "        vertical-align: top;\n",
       "    }\n",
       "\n",
       "    .dataframe thead th {\n",
       "        text-align: right;\n",
       "    }\n",
       "</style>\n",
       "<table border=\"1\" class=\"dataframe\">\n",
       "  <thead>\n",
       "    <tr style=\"text-align: right;\">\n",
       "      <th>major_category</th>\n",
       "      <th>Burglary</th>\n",
       "      <th>Criminal Damage</th>\n",
       "      <th>Drugs</th>\n",
       "      <th>Fraud or Forgery</th>\n",
       "      <th>Other Notifiable Offences</th>\n",
       "      <th>Robbery</th>\n",
       "      <th>Sexual Offences</th>\n",
       "      <th>Theft and Handling</th>\n",
       "      <th>Violence Against the Person</th>\n",
       "    </tr>\n",
       "  </thead>\n",
       "  <tbody>\n",
       "    <tr>\n",
       "      <td>value</td>\n",
       "      <td>754293</td>\n",
       "      <td>630938</td>\n",
       "      <td>470765</td>\n",
       "      <td>5325</td>\n",
       "      <td>106349</td>\n",
       "      <td>258873</td>\n",
       "      <td>1273</td>\n",
       "      <td>2661861</td>\n",
       "      <td>1558081</td>\n",
       "    </tr>\n",
       "  </tbody>\n",
       "</table>\n",
       "</div>"
      ],
      "text/plain": [
       "major_category  Burglary  Criminal Damage   Drugs  Fraud or Forgery  \\\n",
       "value             754293           630938  470765              5325   \n",
       "\n",
       "major_category  Other Notifiable Offences  Robbery  Sexual Offences  \\\n",
       "value                              106349   258873             1273   \n",
       "\n",
       "major_category  Theft and Handling  Violence Against the Person  \n",
       "value                      2661861                      1558081  "
      ]
     },
     "execution_count": 53,
     "metadata": {},
     "output_type": "execute_result"
    }
   ],
   "source": [
    "data_london_df3 = data_london_df[data_london_df['value']!=0]\n",
    "data_london_df3 = data_london_df3.groupby('major_category').sum()\n",
    "data_london_df3 = data_london_df3.transpose()\n",
    "data_london_df3 = data_london_df3.loc[['value']]\n",
    "data_london_df3\n",
    "#data_london_df3[data_london_df3['major_category']=='value']"
   ]
  },
  {
   "cell_type": "code",
   "execution_count": 54,
   "metadata": {},
   "outputs": [
    {
     "data": {
      "image/png": "[encoded data removed]",
      "text/plain": [
       "<matplotlib.figure.Figure at 0x7ff077a29978>"
      ]
     },
     "metadata": {
      "needs_background": "light"
     },
     "output_type": "display_data"
    }
   ],
   "source": [
    "data_london_df3.plot(kind='box',figsize=(14,8))\n",
    "plt.title('Crime distribution in London')\n",
    "plt.ylabel('Number of Crime')\n",
    "plt.xlabel('Crime Category')\n",
    "plt.show()"
   ]
  },
  {
   "cell_type": "markdown",
   "metadata": {},
   "source": [
    "case:\n",
    "\n",
    "major category apa yang dia memiliki persebaran per bulanny paling kecil?"
   ]
  },
  {
   "cell_type": "code",
   "execution_count": 40,
   "metadata": {},
   "outputs": [
    {
     "data": {
      "text/html": [
       "<div>\n",
       "<style scoped>\n",
       "    .dataframe tbody tr th:only-of-type {\n",
       "        vertical-align: middle;\n",
       "    }\n",
       "\n",
       "    .dataframe tbody tr th {\n",
       "        vertical-align: top;\n",
       "    }\n",
       "\n",
       "    .dataframe thead th {\n",
       "        text-align: right;\n",
       "    }\n",
       "</style>\n",
       "<table border=\"1\" class=\"dataframe\">\n",
       "  <thead>\n",
       "    <tr style=\"text-align: right;\">\n",
       "      <th></th>\n",
       "      <th>value</th>\n",
       "      <th>month</th>\n",
       "    </tr>\n",
       "    <tr>\n",
       "      <th>major_category</th>\n",
       "      <th></th>\n",
       "      <th></th>\n",
       "    </tr>\n",
       "  </thead>\n",
       "  <tbody>\n",
       "    <tr>\n",
       "      <td>Burglary</td>\n",
       "      <td>88092</td>\n",
       "      <td>753714</td>\n",
       "    </tr>\n",
       "    <tr>\n",
       "      <td>Criminal Damage</td>\n",
       "      <td>91872</td>\n",
       "      <td>1494402</td>\n",
       "    </tr>\n",
       "    <tr>\n",
       "      <td>Drugs</td>\n",
       "      <td>68804</td>\n",
       "      <td>851838</td>\n",
       "    </tr>\n",
       "    <tr>\n",
       "      <td>Fraud or Forgery</td>\n",
       "      <td>5325</td>\n",
       "      <td>170820</td>\n",
       "    </tr>\n",
       "    <tr>\n",
       "      <td>Other Notifiable Offences</td>\n",
       "      <td>10112</td>\n",
       "      <td>560664</td>\n",
       "    </tr>\n",
       "    <tr>\n",
       "      <td>Robbery</td>\n",
       "      <td>29627</td>\n",
       "      <td>678444</td>\n",
       "    </tr>\n",
       "    <tr>\n",
       "      <td>Sexual Offences</td>\n",
       "      <td>1273</td>\n",
       "      <td>78078</td>\n",
       "    </tr>\n",
       "    <tr>\n",
       "      <td>Theft and Handling</td>\n",
       "      <td>283692</td>\n",
       "      <td>2864550</td>\n",
       "    </tr>\n",
       "    <tr>\n",
       "      <td>Violence Against the Person</td>\n",
       "      <td>159844</td>\n",
       "      <td>2290704</td>\n",
       "    </tr>\n",
       "  </tbody>\n",
       "</table>\n",
       "</div>"
      ],
      "text/plain": [
       "                              value    month\n",
       "major_category                              \n",
       "Burglary                      88092   753714\n",
       "Criminal Damage               91872  1494402\n",
       "Drugs                         68804   851838\n",
       "Fraud or Forgery               5325   170820\n",
       "Other Notifiable Offences     10112   560664\n",
       "Robbery                       29627   678444\n",
       "Sexual Offences                1273    78078\n",
       "Theft and Handling           283692  2864550\n",
       "Violence Against the Person  159844  2290704"
      ]
     },
     "execution_count": 40,
     "metadata": {},
     "output_type": "execute_result"
    }
   ],
   "source": [
    "data_london_2 = data_london_df.groupby(['year','major_category'],axis=0).sum()\n",
    "data_london_2.loc[2008]\n",
    "#data_london_2.plot(kind='box',figsize=(14,8))"
   ]
  },
  {
   "cell_type": "code",
   "execution_count": 80,
   "metadata": {},
   "outputs": [
    {
     "data": {
      "image/png": "[encoded data removed]",
      "text/plain": [
       "<matplotlib.figure.Figure at 0x7ff0750a5d30>"
      ]
     },
     "metadata": {
      "needs_background": "light"
     },
     "output_type": "display_data"
    }
   ],
   "source": [
    "count,bin_edges = np.histogram(data_canada_df[1980])\n",
    "data_canada_df[1980].plot(kind='hist',figsize=(14,8),xticks=bin_edges)\n",
    "plt.title('Immigration in Canada')\n",
    "plt.ylabel('Number of Countries')\n",
    "plt.xlabel('Number of Immigrant')\n",
    "plt.show()"
   ]
  },
  {
   "cell_type": "code",
   "execution_count": 83,
   "metadata": {},
   "outputs": [
    {
     "data": {
      "text/html": [
       "<div>\n",
       "<style scoped>\n",
       "    .dataframe tbody tr th:only-of-type {\n",
       "        vertical-align: middle;\n",
       "    }\n",
       "\n",
       "    .dataframe tbody tr th {\n",
       "        vertical-align: top;\n",
       "    }\n",
       "\n",
       "    .dataframe thead th {\n",
       "        text-align: right;\n",
       "    }\n",
       "</style>\n",
       "<table border=\"1\" class=\"dataframe\">\n",
       "  <thead>\n",
       "    <tr style=\"text-align: right;\">\n",
       "      <th></th>\n",
       "      <th>lsoa_code</th>\n",
       "      <th>borough</th>\n",
       "      <th>major_category</th>\n",
       "      <th>minor_category</th>\n",
       "      <th>value</th>\n",
       "      <th>year</th>\n",
       "      <th>month</th>\n",
       "    </tr>\n",
       "  </thead>\n",
       "  <tbody>\n",
       "    <tr>\n",
       "      <td>0</td>\n",
       "      <td>E01001116</td>\n",
       "      <td>Croydon</td>\n",
       "      <td>Burglary</td>\n",
       "      <td>Burglary in Other Buildings</td>\n",
       "      <td>0</td>\n",
       "      <td>2016</td>\n",
       "      <td>11</td>\n",
       "    </tr>\n",
       "    <tr>\n",
       "      <td>1</td>\n",
       "      <td>E01001646</td>\n",
       "      <td>Greenwich</td>\n",
       "      <td>Violence Against the Person</td>\n",
       "      <td>Other violence</td>\n",
       "      <td>0</td>\n",
       "      <td>2016</td>\n",
       "      <td>11</td>\n",
       "    </tr>\n",
       "    <tr>\n",
       "      <td>2</td>\n",
       "      <td>E01000677</td>\n",
       "      <td>Bromley</td>\n",
       "      <td>Violence Against the Person</td>\n",
       "      <td>Other violence</td>\n",
       "      <td>0</td>\n",
       "      <td>2015</td>\n",
       "      <td>5</td>\n",
       "    </tr>\n",
       "    <tr>\n",
       "      <td>3</td>\n",
       "      <td>E01003774</td>\n",
       "      <td>Redbridge</td>\n",
       "      <td>Burglary</td>\n",
       "      <td>Burglary in Other Buildings</td>\n",
       "      <td>0</td>\n",
       "      <td>2016</td>\n",
       "      <td>3</td>\n",
       "    </tr>\n",
       "    <tr>\n",
       "      <td>4</td>\n",
       "      <td>E01004563</td>\n",
       "      <td>Wandsworth</td>\n",
       "      <td>Robbery</td>\n",
       "      <td>Personal Property</td>\n",
       "      <td>0</td>\n",
       "      <td>2008</td>\n",
       "      <td>6</td>\n",
       "    </tr>\n",
       "    <tr>\n",
       "      <td>...</td>\n",
       "      <td>...</td>\n",
       "      <td>...</td>\n",
       "      <td>...</td>\n",
       "      <td>...</td>\n",
       "      <td>...</td>\n",
       "      <td>...</td>\n",
       "      <td>...</td>\n",
       "    </tr>\n",
       "    <tr>\n",
       "      <td>13490599</td>\n",
       "      <td>E01000504</td>\n",
       "      <td>Brent</td>\n",
       "      <td>Criminal Damage</td>\n",
       "      <td>Criminal Damage To Dwelling</td>\n",
       "      <td>0</td>\n",
       "      <td>2015</td>\n",
       "      <td>2</td>\n",
       "    </tr>\n",
       "    <tr>\n",
       "      <td>13490600</td>\n",
       "      <td>E01002504</td>\n",
       "      <td>Hillingdon</td>\n",
       "      <td>Robbery</td>\n",
       "      <td>Personal Property</td>\n",
       "      <td>1</td>\n",
       "      <td>2015</td>\n",
       "      <td>6</td>\n",
       "    </tr>\n",
       "    <tr>\n",
       "      <td>13490601</td>\n",
       "      <td>E01004165</td>\n",
       "      <td>Sutton</td>\n",
       "      <td>Burglary</td>\n",
       "      <td>Burglary in a Dwelling</td>\n",
       "      <td>0</td>\n",
       "      <td>2011</td>\n",
       "      <td>2</td>\n",
       "    </tr>\n",
       "    <tr>\n",
       "      <td>13490602</td>\n",
       "      <td>E01001134</td>\n",
       "      <td>Croydon</td>\n",
       "      <td>Robbery</td>\n",
       "      <td>Business Property</td>\n",
       "      <td>0</td>\n",
       "      <td>2011</td>\n",
       "      <td>5</td>\n",
       "    </tr>\n",
       "    <tr>\n",
       "      <td>13490603</td>\n",
       "      <td>E01003413</td>\n",
       "      <td>Merton</td>\n",
       "      <td>Violence Against the Person</td>\n",
       "      <td>Wounding/GBH</td>\n",
       "      <td>0</td>\n",
       "      <td>2015</td>\n",
       "      <td>6</td>\n",
       "    </tr>\n",
       "  </tbody>\n",
       "</table>\n",
       "<p>13490604 rows × 7 columns</p>\n",
       "</div>"
      ],
      "text/plain": [
       "          lsoa_code     borough               major_category  \\\n",
       "0         E01001116     Croydon                     Burglary   \n",
       "1         E01001646   Greenwich  Violence Against the Person   \n",
       "2         E01000677     Bromley  Violence Against the Person   \n",
       "3         E01003774   Redbridge                     Burglary   \n",
       "4         E01004563  Wandsworth                      Robbery   \n",
       "...             ...         ...                          ...   \n",
       "13490599  E01000504       Brent              Criminal Damage   \n",
       "13490600  E01002504  Hillingdon                      Robbery   \n",
       "13490601  E01004165      Sutton                     Burglary   \n",
       "13490602  E01001134     Croydon                      Robbery   \n",
       "13490603  E01003413      Merton  Violence Against the Person   \n",
       "\n",
       "                       minor_category  value  year  month  \n",
       "0         Burglary in Other Buildings      0  2016     11  \n",
       "1                      Other violence      0  2016     11  \n",
       "2                      Other violence      0  2015      5  \n",
       "3         Burglary in Other Buildings      0  2016      3  \n",
       "4                   Personal Property      0  2008      6  \n",
       "...                               ...    ...   ...    ...  \n",
       "13490599  Criminal Damage To Dwelling      0  2015      2  \n",
       "13490600            Personal Property      1  2015      6  \n",
       "13490601       Burglary in a Dwelling      0  2011      2  \n",
       "13490602            Business Property      0  2011      5  \n",
       "13490603                 Wounding/GBH      0  2015      6  \n",
       "\n",
       "[13490604 rows x 7 columns]"
      ]
     },
     "execution_count": 83,
     "metadata": {},
     "output_type": "execute_result"
    }
   ],
   "source": [
    "data_london_df"
   ]
  },
  {
   "cell_type": "code",
   "execution_count": 90,
   "metadata": {},
   "outputs": [
    {
     "data": {
      "text/html": [
       "<div>\n",
       "<style scoped>\n",
       "    .dataframe tbody tr th:only-of-type {\n",
       "        vertical-align: middle;\n",
       "    }\n",
       "\n",
       "    .dataframe tbody tr th {\n",
       "        vertical-align: top;\n",
       "    }\n",
       "\n",
       "    .dataframe thead th {\n",
       "        text-align: right;\n",
       "    }\n",
       "</style>\n",
       "<table border=\"1\" class=\"dataframe\">\n",
       "  <thead>\n",
       "    <tr style=\"text-align: right;\">\n",
       "      <th></th>\n",
       "      <th>value</th>\n",
       "    </tr>\n",
       "    <tr>\n",
       "      <th>borough</th>\n",
       "      <th></th>\n",
       "    </tr>\n",
       "  </thead>\n",
       "  <tbody>\n",
       "    <tr>\n",
       "      <td>Barking and Dagenham</td>\n",
       "      <td>149447</td>\n",
       "    </tr>\n",
       "    <tr>\n",
       "      <td>Barnet</td>\n",
       "      <td>212191</td>\n",
       "    </tr>\n",
       "    <tr>\n",
       "      <td>Bexley</td>\n",
       "      <td>114136</td>\n",
       "    </tr>\n",
       "    <tr>\n",
       "      <td>Brent</td>\n",
       "      <td>227551</td>\n",
       "    </tr>\n",
       "    <tr>\n",
       "      <td>Bromley</td>\n",
       "      <td>184349</td>\n",
       "    </tr>\n",
       "    <tr>\n",
       "      <td>Camden</td>\n",
       "      <td>275147</td>\n",
       "    </tr>\n",
       "    <tr>\n",
       "      <td>City of London</td>\n",
       "      <td>780</td>\n",
       "    </tr>\n",
       "    <tr>\n",
       "      <td>Croydon</td>\n",
       "      <td>260294</td>\n",
       "    </tr>\n",
       "    <tr>\n",
       "      <td>Ealing</td>\n",
       "      <td>251562</td>\n",
       "    </tr>\n",
       "    <tr>\n",
       "      <td>Enfield</td>\n",
       "      <td>193880</td>\n",
       "    </tr>\n",
       "    <tr>\n",
       "      <td>Greenwich</td>\n",
       "      <td>181568</td>\n",
       "    </tr>\n",
       "    <tr>\n",
       "      <td>Hackney</td>\n",
       "      <td>217119</td>\n",
       "    </tr>\n",
       "    <tr>\n",
       "      <td>Hammersmith and Fulham</td>\n",
       "      <td>185259</td>\n",
       "    </tr>\n",
       "    <tr>\n",
       "      <td>Haringey</td>\n",
       "      <td>213272</td>\n",
       "    </tr>\n",
       "    <tr>\n",
       "      <td>Harrow</td>\n",
       "      <td>116848</td>\n",
       "    </tr>\n",
       "    <tr>\n",
       "      <td>Havering</td>\n",
       "      <td>138947</td>\n",
       "    </tr>\n",
       "    <tr>\n",
       "      <td>Hillingdon</td>\n",
       "      <td>209680</td>\n",
       "    </tr>\n",
       "    <tr>\n",
       "      <td>Hounslow</td>\n",
       "      <td>186772</td>\n",
       "    </tr>\n",
       "    <tr>\n",
       "      <td>Islington</td>\n",
       "      <td>230286</td>\n",
       "    </tr>\n",
       "    <tr>\n",
       "      <td>Kensington and Chelsea</td>\n",
       "      <td>171981</td>\n",
       "    </tr>\n",
       "    <tr>\n",
       "      <td>Kingston upon Thames</td>\n",
       "      <td>89306</td>\n",
       "    </tr>\n",
       "    <tr>\n",
       "      <td>Lambeth</td>\n",
       "      <td>292178</td>\n",
       "    </tr>\n",
       "    <tr>\n",
       "      <td>Lewisham</td>\n",
       "      <td>215137</td>\n",
       "    </tr>\n",
       "    <tr>\n",
       "      <td>Merton</td>\n",
       "      <td>115654</td>\n",
       "    </tr>\n",
       "    <tr>\n",
       "      <td>Newham</td>\n",
       "      <td>262024</td>\n",
       "    </tr>\n",
       "    <tr>\n",
       "      <td>Redbridge</td>\n",
       "      <td>183562</td>\n",
       "    </tr>\n",
       "    <tr>\n",
       "      <td>Richmond upon Thames</td>\n",
       "      <td>96771</td>\n",
       "    </tr>\n",
       "    <tr>\n",
       "      <td>Southwark</td>\n",
       "      <td>278809</td>\n",
       "    </tr>\n",
       "    <tr>\n",
       "      <td>Sutton</td>\n",
       "      <td>100987</td>\n",
       "    </tr>\n",
       "    <tr>\n",
       "      <td>Tower Hamlets</td>\n",
       "      <td>228613</td>\n",
       "    </tr>\n",
       "    <tr>\n",
       "      <td>Waltham Forest</td>\n",
       "      <td>203879</td>\n",
       "    </tr>\n",
       "    <tr>\n",
       "      <td>Wandsworth</td>\n",
       "      <td>204741</td>\n",
       "    </tr>\n",
       "    <tr>\n",
       "      <td>Westminster</td>\n",
       "      <td>455028</td>\n",
       "    </tr>\n",
       "  </tbody>\n",
       "</table>\n",
       "</div>"
      ],
      "text/plain": [
       "                         value\n",
       "borough                       \n",
       "Barking and Dagenham    149447\n",
       "Barnet                  212191\n",
       "Bexley                  114136\n",
       "Brent                   227551\n",
       "Bromley                 184349\n",
       "Camden                  275147\n",
       "City of London             780\n",
       "Croydon                 260294\n",
       "Ealing                  251562\n",
       "Enfield                 193880\n",
       "Greenwich               181568\n",
       "Hackney                 217119\n",
       "Hammersmith and Fulham  185259\n",
       "Haringey                213272\n",
       "Harrow                  116848\n",
       "Havering                138947\n",
       "Hillingdon              209680\n",
       "Hounslow                186772\n",
       "Islington               230286\n",
       "Kensington and Chelsea  171981\n",
       "Kingston upon Thames     89306\n",
       "Lambeth                 292178\n",
       "Lewisham                215137\n",
       "Merton                  115654\n",
       "Newham                  262024\n",
       "Redbridge               183562\n",
       "Richmond upon Thames     96771\n",
       "Southwark               278809\n",
       "Sutton                  100987\n",
       "Tower Hamlets           228613\n",
       "Waltham Forest          203879\n",
       "Wandsworth              204741\n",
       "Westminster             455028"
      ]
     },
     "execution_count": 90,
     "metadata": {},
     "output_type": "execute_result"
    }
   ],
   "source": [
    "data_london_df2 = pd.DataFrame(data_london_df.groupby(by=['borough'])['value'].sum())\n",
    "data_london_df2"
   ]
  },
  {
   "cell_type": "code",
   "execution_count": 87,
   "metadata": {},
   "outputs": [
    {
     "data": {
      "text/plain": [
       "borough\n",
       "Barking and Dagenham      149447\n",
       "Barnet                    212191\n",
       "Bexley                    114136\n",
       "Brent                     227551\n",
       "Bromley                   184349\n",
       "Camden                    275147\n",
       "City of London               780\n",
       "Croydon                   260294\n",
       "Ealing                    251562\n",
       "Enfield                   193880\n",
       "Greenwich                 181568\n",
       "Hackney                   217119\n",
       "Hammersmith and Fulham    185259\n",
       "Haringey                  213272\n",
       "Harrow                    116848\n",
       "Havering                  138947\n",
       "Hillingdon                209680\n",
       "Hounslow                  186772\n",
       "Islington                 230286\n",
       "Kensington and Chelsea    171981\n",
       "Kingston upon Thames       89306\n",
       "Lambeth                   292178\n",
       "Lewisham                  215137\n",
       "Merton                    115654\n",
       "Newham                    262024\n",
       "Redbridge                 183562\n",
       "Richmond upon Thames       96771\n",
       "Southwark                 278809\n",
       "Sutton                    100987\n",
       "Tower Hamlets             228613\n",
       "Waltham Forest            203879\n",
       "Wandsworth                204741\n",
       "Westminster               455028\n",
       "Name: value, dtype: int64"
      ]
     },
     "execution_count": 87,
     "metadata": {},
     "output_type": "execute_result"
    }
   ],
   "source": [
    "data_london_df.groupby(by=['borough'])['value'].sum()"
   ]
  },
  {
   "cell_type": "code",
   "execution_count": 93,
   "metadata": {},
   "outputs": [
    {
     "data": {
      "image/png": "[encoded data removed]",
      "text/plain": [
       "<matplotlib.figure.Figure at 0x7ff07586fa58>"
      ]
     },
     "metadata": {
      "needs_background": "light"
     },
     "output_type": "display_data"
    }
   ],
   "source": [
    "data_london_df3 = data_london_df.groupby(by=['borough'])['value'].sum()\n",
    "count,bin_edges = np.histogram(data_london_df3)\n",
    "data_london_df3.plot(kind='hist',figsize=(14,8),xticks=bin_edges)\n",
    "plt.title('Immigration in Canada')\n",
    "plt.ylabel('Number of Countries')\n",
    "plt.xlabel('Number of Immigrant')\n",
    "plt.show()"
   ]
  }
 ],
 "metadata": {
  "kernelspec": {
   "display_name": "Python 3",
   "language": "python",
   "name": "python3"
  },
  "language_info": {
   "codemirror_mode": {
    "name": "ipython",
    "version": 3
   },
   "file_extension": ".py",
   "mimetype": "text/x-python",
   "name": "python",
   "nbconvert_exporter": "python",
   "pygments_lexer": "ipython3",
   "version": "3.6.7"
  }
 },
 "nbformat": 4,
 "nbformat_minor": 2
}
